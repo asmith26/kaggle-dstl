{
 "cells": [
  {
   "cell_type": "code",
   "execution_count": 1,
   "metadata": {},
   "outputs": [
    {
     "name": "stderr",
     "output_type": "stream",
     "text": [
      "Using TensorFlow backend.\n"
     ]
    },
    {
     "name": "stdout",
     "output_type": "stream",
     "text": [
      "2.0.5\n"
     ]
    }
   ],
   "source": [
    "import errno\n",
    "import matplotlib.pyplot as plt\n",
    "import numpy as np\n",
    "import cv2\n",
    "import pandas as pd\n",
    "from shapely.wkt import loads as wkt_loads\n",
    "import tifffile as tiff\n",
    "import os\n",
    "import random\n",
    "from keras.models import Model\n",
    "from keras.layers import Input, concatenate, Conv2D, MaxPooling2D, Conv2DTranspose\n",
    "from keras.layers.normalization import BatchNormalization\n",
    "from keras.optimizers import Adam\n",
    "from keras.callbacks import ModelCheckpoint, LearningRateScheduler\n",
    "from keras import backend as K\n",
    "from keras.models import load_model\n",
    "from sklearn.metrics import jaccard_similarity_score\n",
    "from shapely.geometry import MultiPolygon, Polygon\n",
    "import shapely.wkt\n",
    "import shapely.affinity\n",
    "from collections import defaultdict\n",
    "\n",
    "import csv\n",
    "import glob\n",
    "import gdal\n",
    "\n",
    "from datetime import datetime\n",
    "\n",
    "from keras import __version__\n",
    "print(__version__)"
   ]
  },
  {
   "cell_type": "code",
   "execution_count": 2,
   "metadata": {},
   "outputs": [
    {
     "name": "stdout",
     "output_type": "stream",
     "text": [
      "/home/ubuntu/git/kaggle-dstl/keras2-baseline-improvements\n"
     ]
    }
   ],
   "source": [
    "def mkdir_p(path):\n",
    "    try:\n",
    "        os.makedirs(path)\n",
    "    except OSError as exc:  # Python >2.5\n",
    "        if exc.errno == errno.EEXIST and os.path.isdir(path):\n",
    "            pass\n",
    "        else:\n",
    "            raise\n",
    "\n",
    "K.set_image_data_format('channels_first')\n",
    "\n",
    "N_Cls = 1\n",
    "data_base_dir = \"/home/ubuntu/data/\"\n",
    "inDir = './'\n",
    "mkdir_p(inDir + '/data')\n",
    "out_dir = 'output/'\n",
    "mkdir_p(out_dir)\n",
    "\n",
    "print(os.getcwd())\n",
    "DF = pd.read_csv(data_base_dir+'train_wkt_v4_TREES.csv')\n",
    "val_DF = pd.read_csv(data_base_dir+'val_wkt_v4_TREES.csv')\n",
    "GS = pd.read_csv(data_base_dir+'grid_sizes.csv', names=['ImageId', 'Xmax', 'Ymin'], skiprows=1)\n",
    "SB = pd.read_csv(data_base_dir+'sample_submission.csv')\n",
    "\n",
    "ISZ = 160\n",
    "smooth = 1e-12\n",
    "\n",
    "EPSILON = 2  # polygon edge smoothing factor (higher=less nodes, i.e. less detail)\n",
    "MIN_AREA = 5.  # smallest area a polygon can be\n",
    "\n",
    "val_img_names = [\"6010_4_4\", \"6070_2_3\", \"6100_2_3\", \"6140_1_2\", \"6110_4_0\"]"
   ]
  },
  {
   "cell_type": "markdown",
   "metadata": {},
   "source": [
    "# Image preprocessing"
   ]
  },
  {
   "cell_type": "markdown",
   "metadata": {},
   "source": [
    "## Create indexes (all test/train/val TIFFs)"
   ]
  },
  {
   "cell_type": "code",
   "execution_count": 76,
   "metadata": {
    "collapsed": true
   },
   "outputs": [],
   "source": [
    "def ndwi_calc(green, nir):\n",
    "    ndwi = ((green - nir) / (green + nir))\n",
    "    return ndwi"
   ]
  },
  {
   "cell_type": "code",
   "execution_count": 84,
   "metadata": {
    "collapsed": true
   },
   "outputs": [],
   "source": [
    "def get_bands(src):\n",
    "    red = src.GetRasterBand(5)\n",
    "    nir = src.GetRasterBand(7)\n",
    "    blue = src.GetRasterBand(2)\n",
    "\n",
    "    r_arr = red.ReadAsArray()\n",
    "    nir_arr = nir.ReadAsArray()\n",
    "    b_arr = blue.ReadAsArray()\n",
    "\n",
    "    r_arr = r_arr.astype(np.float32)\n",
    "    nir_arr = nir_arr.astype(np.float32)\n",
    "    b_arr = b_arr.astype(np.float32)\n",
    "    \n",
    "    green = src.GetRasterBand(3)\n",
    "    g_arr = green.ReadAsArray()\n",
    "    g_arr = g_arr.astype(np.float32)\n",
    "\n",
    "    return r_arr, nir_arr, b_arr, g_arr\n",
    "\n",
    "\n",
    "def ndvi_calc(red, nir):\n",
    "    # https://en.wikipedia.org/wiki/Normalized_Difference_Vegetation_Index\n",
    "    return ((nir - red) / (nir + red))\n",
    "\n",
    "\n",
    "def evi_calc(r_arr, nir_arr, b_arr,\n",
    "             canopy_background_adjustment,\n",
    "             coefficient_1_of_the_aerosol_resistance_term,\n",
    "             coefficient_2_of_the_aerosol_resistance_term,\n",
    "             gain_factor):\n",
    "    # https://en.wikipedia.org/wiki/Enhanced_vegetation_index\n",
    "    L = canopy_background_adjustment\n",
    "    C1 = coefficient_1_of_the_aerosol_resistance_term\n",
    "    C2 = coefficient_2_of_the_aerosol_resistance_term\n",
    "    G = gain_factor\n",
    "    return G * (nir_arr - r_arr) / (nir_arr + C1*r_arr - C2*b_arr + L)\n",
    "\n",
    "\n",
    "def get_scalers(x_max, y_min, im_size):\n",
    "    h, w = im_size  # they are flipped so that mask_for_polygons works correctly\n",
    "    h, w = float(h), float(w)\n",
    "    w_ = w * (w / (w + 1))\n",
    "    h_ = h * (h / (h + 1))\n",
    "    return w_ / x_max, h_ / y_min\n",
    "\n",
    "\n",
    "# \"With the value for L used, this is essentially the same computation as NDVI - hence commented out.\n",
    "# (indeed, the visualisation of the index bands indicate the similarity).\"\n",
    "def savi_calc(r_arr, nir_arr, canopy_background_adjustment_factor):\n",
    "    # https: // en.wikipedia.org / wiki / Soil - Adjusted_Vegetation_Index   \n",
    "    L = canopy_background_adjustment_factor\n",
    "    return ((1 + L)*(nir_arr - r_arr)) / (nir_arr + r_arr + L)\n",
    "\n",
    "\n",
    "def get_xmax_ymin(imageid):\n",
    "    for _im_id, _x, _y in csv.reader(open(data_base_dir + \"/grid_sizes.csv\")):\n",
    "        if _im_id == imageid:\n",
    "            x_max, y_min = float(_x), float(_y)\n",
    "            return x_max, y_min\n",
    "\n",
    "\n",
    "def create_indexes(image_id):\n",
    "#     ndvi_all = []\n",
    "#     evi_all = []\n",
    "#     savi_all = []\n",
    "    \n",
    "    m_path = data_base_dir + \"sixteen_band/{}_M.tif\".format(image_id)\n",
    "    imageid = m_path.split(\"/\")[-1].split(\"_M.tif\")[0]\n",
    "\n",
    "    src = gdal.Open(m_path)\n",
    "\n",
    "    r_arr, nir_arr, b_arr, g_arr = get_bands(src)\n",
    "\n",
    "    im_size = r_arr.shape\n",
    "\n",
    "    x_max, y_min = get_xmax_ymin(imageid)\n",
    "\n",
    "    x_scaler, y_scaler = get_scalers(x_max, y_min, im_size)\n",
    "\n",
    "    ndvi = ndvi_calc(r_arr, nir_arr)\n",
    "    evi = evi_calc(r_arr, nir_arr, b_arr,\n",
    "         canopy_background_adjustment=1,\n",
    "         coefficient_1_of_the_aerosol_resistance_term=6,\n",
    "         coefficient_2_of_the_aerosol_resistance_term=7.5,\n",
    "         gain_factor=2.5)\n",
    "    savi = savi_calc(r_arr, nir_arr, canopy_background_adjustment_factor=0.5)\n",
    "    \n",
    "    ndwi = ndwi_calc(g_arr, nir_arr)\n",
    "\n",
    "    return ndvi, savi, evi,  ndwi\n",
    "#     ndvi_all.append(ndvi)\n",
    "#     evi_all.append(evi)\n",
    "#     savi_all.append(savi)\n",
    "\n",
    "#     np.save(inDir + '/data/ndvi_all', np.array(ndvi_all))\n",
    "#     np.save(inDir + '/data/evi_all', np.array(evi_all))\n",
    "#     np.save(inDir + '/data/savi_all', np.array(savi_all))"
   ]
  },
  {
   "cell_type": "code",
   "execution_count": 78,
   "metadata": {
    "collapsed": true
   },
   "outputs": [],
   "source": [
    "def _convert_coordinates_to_raster(coords, img_size, xymax):\n",
    "    # __author__ = visoft\n",
    "    # https://www.kaggle.com/visoft/dstl-satellite-imagery-feature-detection/export-pixel-wise-mask\n",
    "    Xmax, Ymax = xymax\n",
    "    H, W = img_size\n",
    "    W1 = 1.0 * W * W / (W + 1)\n",
    "    H1 = 1.0 * H * H / (H + 1)\n",
    "    xf = W1 / Xmax\n",
    "    yf = H1 / Ymax\n",
    "    coords[:, 1] *= yf\n",
    "    coords[:, 0] *= xf\n",
    "    coords_int = np.round(coords).astype(np.int32)\n",
    "    return coords_int\n",
    "\n",
    "\n",
    "def _get_xmax_ymin(grid_sizes_panda, imageId):\n",
    "    # __author__ = visoft\n",
    "    # https://www.kaggle.com/visoft/dstl-satellite-imagery-feature-detection/export-pixel-wise-mask\n",
    "    xmax, ymin = grid_sizes_panda[grid_sizes_panda.ImageId == imageId].iloc[0, 1:].astype(float)\n",
    "    return (xmax, ymin)\n",
    "\n",
    "\n",
    "def _get_polygon_list(wkt_list_pandas, imageId, cType):\n",
    "    # __author__ = visoft\n",
    "    # https://www.kaggle.com/visoft/dstl-satellite-imagery-feature-detection/export-pixel-wise-mask\n",
    "    df_image = wkt_list_pandas[wkt_list_pandas.ImageId == imageId]\n",
    "    multipoly_def = df_image[df_image.ClassType == cType].MultipolygonWKT\n",
    "    polygonList = None\n",
    "    if len(multipoly_def) > 0:\n",
    "        assert len(multipoly_def) == 1\n",
    "        polygonList = wkt_loads(multipoly_def.values[0])\n",
    "    return polygonList\n",
    "\n",
    "\n",
    "def _get_and_convert_contours(polygonList, raster_img_size, xymax):\n",
    "    # __author__ = visoft\n",
    "    # https://www.kaggle.com/visoft/dstl-satellite-imagery-feature-detection/export-pixel-wise-mask\n",
    "    perim_list = []\n",
    "    interior_list = []\n",
    "    if polygonList is None:\n",
    "        return None\n",
    "    for k in range(len(polygonList)):\n",
    "        poly = polygonList[k]\n",
    "        perim = np.array(list(poly.exterior.coords))\n",
    "        perim_c = _convert_coordinates_to_raster(perim, raster_img_size, xymax)\n",
    "        perim_list.append(perim_c)\n",
    "        for pi in poly.interiors:\n",
    "            interior = np.array(list(pi.coords))\n",
    "            interior_c = _convert_coordinates_to_raster(interior, raster_img_size, xymax)\n",
    "            interior_list.append(interior_c)\n",
    "    return perim_list, interior_list\n",
    "\n",
    "\n",
    "def _plot_mask_from_contours(raster_img_size, contours, class_value=1):\n",
    "    # __author__ = visoft\n",
    "    # https://www.kaggle.com/visoft/dstl-satellite-imagery-feature-detection/export-pixel-wise-mask\n",
    "    img_mask = np.zeros(raster_img_size, np.uint8)\n",
    "    if contours is None:\n",
    "        return img_mask\n",
    "    perim_list, interior_list = contours\n",
    "    cv2.fillPoly(img_mask, perim_list, class_value)\n",
    "    cv2.fillPoly(img_mask, interior_list, 0)\n",
    "    return img_mask\n",
    "\n",
    "\n",
    "def generate_mask_for_image_and_class(raster_size, imageId, class_type, grid_sizes_panda=GS, wkt_list_pandas=DF):\n",
    "    # __author__ = visoft\n",
    "    # https://www.kaggle.com/visoft/dstl-satellite-imagery-feature-detection/export-pixel-wise-mask\n",
    "    xymax = _get_xmax_ymin(grid_sizes_panda, imageId)  # for scaling according to competition\n",
    "    polygon_list = _get_polygon_list(wkt_list_pandas, imageId, class_type)  # read (training) polygon data\n",
    "    contours = _get_and_convert_contours(polygon_list, raster_size, xymax)  # creating outline from vector nodes\n",
    "    mask = _plot_mask_from_contours(raster_size, contours, 1)  # filling in polygon outlines (i.e. creating the mask)\n",
    "    return mask\n",
    "\n",
    "\n",
    "def M(image_id):\n",
    "    # __author__ = amaia\n",
    "    # https://www.kaggle.com/aamaia/dstl-satellite-imagery-feature-detection/rgb-using-m-bands-example\n",
    "    filename = os.path.join(data_base_dir, 'sixteen_band', '{}_M.tif'.format(image_id))\n",
    "    img = tiff.imread(filename)\n",
    "    img = np.rollaxis(img, 0, 3)\n",
    "    return img\n",
    "\n",
    "\n",
    "def stretch_n(bands, lower_percent=0, higher_percent=100): # <- \"Claims to improve\" (was lower_percent=5, higher_percent=95)\n",
    "    # \"Contrast enhancement\", see https://www.kaggle.com/aamaia/rgb-using-m-bands-example\n",
    "    out = np.zeros_like(bands).astype(np.float32)\n",
    "    n = bands.shape[2]\n",
    "    for i in range(n):\n",
    "        a = 0  # np.min(band)\n",
    "        b = 1  # np.max(band)\n",
    "        c = np.percentile(bands[:, :, i], lower_percent)\n",
    "        d = np.percentile(bands[:, :, i], higher_percent)\n",
    "        t = a + (bands[:, :, i] - c) * (b - a) / (d - c)\n",
    "        t[t < a] = a\n",
    "        t[t > b] = b\n",
    "        out[:, :, i] = t\n",
    "\n",
    "    return out.astype(np.float32)\n",
    "\n",
    "    \n",
    "def get_patches(img, msk, amt=10000, aug=True):\n",
    "    is2 = int(1.0 * ISZ)  # ISZ=is2=patch size\n",
    "    xm, ym = img.shape[0] - is2, img.shape[1] - is2  # starting coordinate for getting patches (taking into consideration padding)\n",
    "\n",
    "    x, y = [], []\n",
    "\n",
    "    # threshold determining when to add an image - if the image contains a greater percentage of pixels in the training\n",
    "    # set than specified by the thresholds below:\n",
    "    tr = [0.3]\n",
    "    \n",
    "    count = 0\n",
    "\n",
    "    for i in range(amt):\n",
    "        do_we_append = False\n",
    "        \n",
    "        # get random point in inner image (i.e exluding the outer image padding)\n",
    "        xc = random.randint(0, xm)\n",
    "        yc = random.randint(0, ym)\n",
    "\n",
    "        # get patch\n",
    "        im = img[xc:xc + is2, yc:yc + is2]\n",
    "        ms = msk[xc:xc + is2, yc:yc + is2]\n",
    "\n",
    "        for j in range(N_Cls):\n",
    "            # sum pixels containing class j\n",
    "            sm = np.sum(ms[:, :, j])\n",
    "            if aug:\n",
    "                if random.uniform(0, 1) > 0.5:\n",
    "                    im = im[::-1]\n",
    "                    ms = ms[::-1]\n",
    "                if random.uniform(0, 1) > 0.5:\n",
    "                    im = im[:, ::-1]\n",
    "                    ms = ms[:, ::-1]\n",
    "\n",
    "            # calculate the percent of covered pixels (for one class) - check if greater than threshold.\n",
    "            if 1.0 * sm / is2 ** 2 > tr[j]:\n",
    "                do_we_append = True\n",
    "            \n",
    "            # Add \"blank ones\" with probability 0.1\n",
    "            elif sm < 500:\n",
    "                do_we_append = True\n",
    "                count += 1\n",
    "                print(\"Add blank, idx={}, count={}\".format(i, count))\n",
    "            \n",
    "        if do_we_append:\n",
    "            x.append(im)\n",
    "            y.append(ms)\n",
    "\n",
    "    x, y = 2 * np.transpose(x, (0, 3, 1, 2)) - 1, np.transpose(y, (0, 3, 1, 2))  # Maybe some sort of standardisation/normalisation\n",
    "    print(x.shape, y.shape, np.amax(x), np.amin(x), np.amax(y), np.amin(y))\n",
    "    return x, y"
   ]
  },
  {
   "cell_type": "code",
   "execution_count": 79,
   "metadata": {
    "collapsed": true
   },
   "outputs": [],
   "source": [
    "def jaccard_coef(y_true, y_pred):\n",
    "    # __author__ = Vladimir Iglovikov\n",
    "    intersection = K.sum(y_true * y_pred, axis=[0, -1, -2])\n",
    "    sum_ = K.sum(y_true + y_pred, axis=[0, -1, -2])\n",
    "\n",
    "    jac = (intersection + smooth) / (sum_ - intersection + smooth)\n",
    "\n",
    "    return K.mean(jac)\n",
    "\n",
    "\n",
    "def jaccard_coef_int(y_true, y_pred):\n",
    "    # __author__ = Vladimir Iglovikov\n",
    "    y_pred_pos = K.round(K.clip(y_pred, 0, 1))\n",
    "\n",
    "    intersection = K.sum(y_true * y_pred_pos, axis=[0, -1, -2])\n",
    "    sum_ = K.sum(y_true + y_pred, axis=[0, -1, -2])\n",
    "    jac = (intersection + smooth) / (sum_ - intersection + smooth)\n",
    "    return K.mean(jac)\n",
    "\n",
    "\n",
    "def calc_jacc(model):\n",
    "    img = np.load(inDir + '/data/x_val_%d.npy' % N_Cls)\n",
    "    msk = np.load(inDir + '/data/y_val_%d.npy' % N_Cls)\n",
    "    \n",
    "    print(\"Validation data shapes:\")\n",
    "    print(img.shape)\n",
    "    print(msk.shape)\n",
    "\n",
    "\n",
    "    prd = model.predict(img, batch_size=4)\n",
    "    print(prd.shape, msk.shape)\n",
    "    avg, trs = [], []\n",
    "\n",
    "    for i in range(N_Cls):\n",
    "        t_msk = msk[:, i, :, :]\n",
    "        t_prd = prd[:, i, :, :]\n",
    "        t_msk = t_msk.reshape(msk.shape[0] * msk.shape[2], msk.shape[3])\n",
    "        t_prd = t_prd.reshape(msk.shape[0] * msk.shape[2], msk.shape[3])\n",
    "\n",
    "        # grid search the threshold\n",
    "        m, b_tr = 0, 0\n",
    "        for j in range(10):\n",
    "            tr = j / 10.0  # threshold\n",
    "            pred_binary_mask = t_prd > tr\n",
    "\n",
    "            jk = jaccard_similarity_score(t_msk, pred_binary_mask)\n",
    "            if jk > m:\n",
    "                m = jk\n",
    "                b_tr = tr\n",
    "\n",
    "        print(i, m, b_tr)\n",
    "        avg.append(m)\n",
    "        trs.append(b_tr)\n",
    "\n",
    "    score = sum(avg) / 10.0\n",
    "    return prd, score, trs  # trs is the best threshold value (a list, for each of the 10 classes)"
   ]
  },
  {
   "cell_type": "code",
   "execution_count": 82,
   "metadata": {
    "collapsed": true
   },
   "outputs": [],
   "source": [
    "def mask_for_polygons(polygons, im_size):\n",
    "    # __author__ = Konstantin Lopuhin\n",
    "    # https://www.kaggle.com/lopuhin/dstl-satellite-imagery-feature-detection/full-pipeline-demo-poly-pixels-ml-poly\n",
    "    img_mask = np.zeros(im_size, np.uint8)\n",
    "    if not polygons:\n",
    "        return img_mask\n",
    "    int_coords = lambda x: np.array(x).round().astype(np.int32)\n",
    "    exteriors = [int_coords(poly.exterior.coords) for poly in polygons]\n",
    "    interiors = [int_coords(pi.coords) for poly in polygons\n",
    "                 for pi in poly.interiors]\n",
    "    cv2.fillPoly(img_mask, exteriors, 1)\n",
    "    cv2.fillPoly(img_mask, interiors, 0)\n",
    "    return img_mask\n",
    "\n",
    "\n",
    "def mask_to_polygons(mask, epsilon=EPSILON, min_area=MIN_AREA):\n",
    "    # __author__ = Konstantin Lopuhin\n",
    "    # https://www.kaggle.com/lopuhin/dstl-satellite-imagery-feature-detection/full-pipeline-demo-poly-pixels-ml-poly\n",
    "\n",
    "    # first, find contours with cv2: it's much faster than shapely\n",
    "    image, contours, hierarchy = cv2.findContours(\n",
    "        ((mask == 1) * 255).astype(np.uint8),\n",
    "        cv2.RETR_CCOMP, cv2.CHAIN_APPROX_TC89_KCOS)\n",
    "    # create approximate contours to have reasonable submission size\n",
    "    approx_contours = [cv2.approxPolyDP(cnt, epsilon, True)\n",
    "                       for cnt in contours]\n",
    "    if not contours:\n",
    "        return MultiPolygon()\n",
    "    # now messy stuff to associate parent and child contours\n",
    "    cnt_children = defaultdict(list)\n",
    "    child_contours = set()\n",
    "    assert hierarchy.shape[0] == 1\n",
    "    # http://docs.opencv.org/3.1.0/d9/d8b/tutorial_py_contours_hierarchy.html\n",
    "    for idx, (_, _, _, parent_idx) in enumerate(hierarchy[0]):\n",
    "        if parent_idx != -1:\n",
    "            child_contours.add(idx)\n",
    "            cnt_children[parent_idx].append(approx_contours[idx])\n",
    "    # create actual polygons filtering by area (removes artifacts)\n",
    "    all_polygons = []\n",
    "    for idx, cnt in enumerate(approx_contours):\n",
    "        if idx not in child_contours and cv2.contourArea(cnt) >= min_area:\n",
    "            assert cnt.shape[1] == 1\n",
    "            poly = Polygon(\n",
    "                shell=cnt[:, 0, :],\n",
    "                holes=[c[:, 0, :] for c in cnt_children.get(idx, [])\n",
    "                       if cv2.contourArea(c) >= min_area])\n",
    "            all_polygons.append(poly)\n",
    "    # approximating polygons might have created invalid ones, fix them\n",
    "    all_polygons = MultiPolygon(all_polygons)\n",
    "    if not all_polygons.is_valid:\n",
    "        all_polygons = all_polygons.buffer(0)\n",
    "        # Sometimes buffer() converts a simple Multipolygon to just a Polygon,\n",
    "        # need to keep it a Multi throughout\n",
    "        if all_polygons.type == 'Polygon':\n",
    "            all_polygons = MultiPolygon([all_polygons])\n",
    "    return all_polygons\n",
    "\n",
    "def get_scalers(im_size, x_max, y_min):\n",
    "    # __author__ = Konstantin Lopuhin\n",
    "    # https://www.kaggle.com/lopuhin/dstl-satellite-imagery-feature-detection/full-pipeline-demo-poly-pixels-ml-poly\n",
    "    h, w = im_size  # they are flipped so that mask_for_polygons works correctly\n",
    "    h, w = float(h), float(w)\n",
    "    w_ = 1.0 * w * (w / (w + 1))\n",
    "    h_ = 1.0 * h * (h / (h + 1))\n",
    "    return w_ / x_max, h_ / y_min\n",
    "\n",
    "def check_predict(id, model_path=None, model_get=None, train_model=None):\n",
    "    if model_path:\n",
    "        model = model_get()  # i.e. some function to create the model\n",
    "        model.load_weights(model_path)\n",
    "    elif train_model:\n",
    "        model = train_model\n",
    "    else:\n",
    "        print(\"Pass model_path/model_get Xor train_model\")\n",
    "        return\n",
    "\n",
    "    msk = predict_id(id, model, trs)\n",
    "    img = M(id)\n",
    "\n",
    "    plt.figure()\n",
    "    ax1 = plt.subplot(131)\n",
    "    ax1.set_title('image ID:'+id)\n",
    "    ax1.imshow(img[:, :, 5], cmap=plt.get_cmap('gist_ncar'))\n",
    "    ax2 = plt.subplot(132)\n",
    "    ax2.set_title('predict bldg pixels')\n",
    "    ax2.imshow(msk[0], cmap=plt.get_cmap('gray'))\n",
    "    ax3 = plt.subplot(133)\n",
    "    ax3.set_title('predict bldg polygones')\n",
    "    ax3.imshow(mask_for_polygons(mask_to_polygons(msk[0], epsilon=1), img.shape[:2]), cmap=plt.get_cmap('gray'))\n",
    "\n",
    "    plt.show()"
   ]
  },
  {
   "cell_type": "markdown",
   "metadata": {},
   "source": [
    "# M(8) + NDVI + NDWI"
   ]
  },
  {
   "cell_type": "code",
   "execution_count": 12,
   "metadata": {
    "collapsed": true
   },
   "outputs": [],
   "source": [
    "def make_val(aug=False):\n",
    "    print(\"let's pick some samples for validation\")\n",
    "    img = np.load(inDir + '/data/x_valALL_%d.npy' % N_Cls)\n",
    "    msk = np.load(inDir + '/data/y_valALL_%d.npy' % N_Cls)\n",
    "    x, y = get_patches(img, msk, amt=300, aug=aug)  # amt := attempt (maybe - i.e. attempting to create 3000 patches, without\n",
    "                                            # percentage area cover threshold.\n",
    "\n",
    "    print(\"Validation data shapes:\")\n",
    "    print(x.shape)\n",
    "    print(y.shape)\n",
    "\n",
    "    np.save(inDir + '/data/x_val_%d' % N_Cls, x)\n",
    "    np.save(inDir + '/data/y_val_%d' % N_Cls, y)\n",
    "    \n",
    "    \n",
    "def stick_all_train():\n",
    "    print(\"let's stick all imgs together\")\n",
    "    s = 835  # size of the M images (roughly)\n",
    "\n",
    "    # 25 training images grid\n",
    "    x = np.zeros((5 * s, 4 * s, 8+2))      # (8 + ndvi + ndwi)\n",
    "    y = np.zeros((5 * s, 4 * s, N_Cls))  # axis=2 denote the class label\n",
    "\n",
    "    ids = sorted(DF.ImageId.unique())\n",
    "    print(len(ids))\n",
    "    \n",
    "    \n",
    "    # x start grid position (based on image size)\n",
    "    for i in range(5):\n",
    "        # y start grid position (based on image size)\n",
    "        for j in range(4):\n",
    "            id = ids[1 * i + j]\n",
    "\n",
    "            img = M(id)\n",
    "        \n",
    "            img = stretch_n(img)\n",
    "            print(img.shape, id, np.amax(img), np.amin(img))\n",
    "            \n",
    "            x[s * i:s * i + s, s * j:s * j + s, :8] = img[:s, :s, :]\n",
    "            \n",
    "            # Add indexes from above\n",
    "            ndvi, savi, evi, ndwi = create_indexes(id)\n",
    "            x[s * i:s * i + s, s * j:s * j + s, 8] = ndvi[:s, :s]   \n",
    "            x[s * i:s * i + s, s * j:s * j + s, 9] = ndwi[:s, :s]   \n",
    "            \n",
    "            # generate training masks by class\n",
    "            for z in range(N_Cls):\n",
    "                y[s * i:s * i + s, s * j:s * j + s, z] = generate_mask_for_image_and_class(\n",
    "                    (img.shape[0], img.shape[1]), id, z + 1)[:s, :s]\n",
    "    \n",
    "    print(\"x shape is:\")\n",
    "    print(x.shape)\n",
    "    print(\"y shape is:\")\n",
    "    print(y.shape)\n",
    "\n",
    "    print(np.amax(y), np.amin(y))\n",
    "    \n",
    "    np.save(inDir + '/data/x_trn_%d' % N_Cls, x)\n",
    "    np.save(inDir + '/data/y_trn_%d' % N_Cls, y)\n",
    "    \n",
    "    \n",
    "def stick_all_val():\n",
    "    print(\"let's stick all imgs together\")\n",
    "    s = 835  # size of the M images\n",
    "\n",
    "    # 25 training images grid\n",
    "    x = np.zeros((5 * s, 1 * s, 8+2))      # (6+ ndvi + ndwi)\n",
    "    y = np.zeros((5 * s, 1 * s, N_Cls))   # axis=2 denote the class label\n",
    "\n",
    "    ids = sorted(val_DF.ImageId.unique())\n",
    "    print(len(ids))\n",
    "\n",
    "    # x start grid position (based on image size)\n",
    "    for i in range(5):\n",
    "        # y start grid position (based on image size)\n",
    "        for j in range(1):\n",
    "            id = ids[1 * i + j]\n",
    "\n",
    "            img = M(id)\n",
    "            \n",
    "            img = stretch_n(img)\n",
    "            print(img.shape, id, np.amax(img), np.amin(img))\n",
    "            \n",
    "            x[s * i:s * i + s, s * j:s * j + s, :8] = img[:s, :s, :]\n",
    "            \n",
    "            # Add indexes from above\n",
    "            ndvi, savi, evi, ndwi = create_indexes(id)\n",
    "            x[s * i:s * i + s, s * j:s * j + s, 8] = ndvi[:s, :s]\n",
    "            x[s * i:s * i + s, s * j:s * j + s, 9] = ndwi[:s, :s]   \n",
    "            \n",
    "            # generate training masks by class\n",
    "            for z in range(N_Cls):\n",
    "                y[s * i:s * i + s, s * j:s * j + s, z] = generate_mask_for_image_and_class(\n",
    "                    (img.shape[0], img.shape[1]), id, z + 1, wkt_list_pandas=val_DF)[:s, :s]\n",
    "\n",
    "    print(\"x shape is:\")\n",
    "    print(x.shape)\n",
    "    print(\"y shape is:\")\n",
    "    print(y.shape)\n",
    "\n",
    "    print(np.amax(y), np.amin(y))\n",
    "\n",
    "    np.save(inDir + '/data/x_valALL_%d' % N_Cls, x)\n",
    "    np.save(inDir + '/data/y_valALL_%d' % N_Cls, y)"
   ]
  },
  {
   "cell_type": "code",
   "execution_count": 13,
   "metadata": {
    "scrolled": true
   },
   "outputs": [
    {
     "name": "stdout",
     "output_type": "stream",
     "text": [
      "let's stick all imgs together\n",
      "20\n",
      "(837, 849, 8) 6010_1_2 1.0 0.0\n",
      "(837, 849, 8) 6010_4_2 1.0 0.0\n"
     ]
    },
    {
     "name": "stderr",
     "output_type": "stream",
     "text": [
      "/usr/local/lib/python3.4/dist-packages/ipykernel_launcher.py:36: RuntimeWarning: divide by zero encountered in true_divide\n"
     ]
    },
    {
     "name": "stdout",
     "output_type": "stream",
     "text": [
      "(837, 848, 8) 6040_1_0 1.0 0.0\n",
      "(837, 848, 8) 6040_1_3 1.0 0.0\n",
      "(837, 849, 8) 6010_4_2 1.0 0.0\n",
      "(837, 848, 8) 6040_1_0 1.0 0.0\n",
      "(837, 848, 8) 6040_1_3 1.0 0.0\n",
      "(837, 848, 8) 6040_2_2 1.0 0.0\n",
      "(837, 848, 8) 6040_1_0 1.0 0.0\n",
      "(837, 848, 8) 6040_1_3 1.0 0.0\n",
      "(837, 848, 8) 6040_2_2 1.0 0.0\n",
      "(837, 846, 8) 6040_4_4 1.0 0.0\n",
      "(837, 848, 8) 6040_1_3 1.0 0.0\n",
      "(837, 848, 8) 6040_2_2 1.0 0.0\n",
      "(837, 846, 8) 6040_4_4 1.0 0.0\n",
      "(837, 851, 8) 6060_2_3 1.0 0.0\n",
      "(837, 848, 8) 6040_2_2 1.0 0.0\n",
      "(837, 846, 8) 6040_4_4 1.0 0.0\n",
      "(837, 851, 8) 6060_2_3 1.0 0.0\n",
      "(837, 848, 8) 6090_2_0 1.0 0.0\n",
      "x shape is:\n",
      "(4175, 3340, 10)\n",
      "y shape is:\n",
      "(4175, 3340, 1)\n",
      "1.0 0.0\n",
      "let's stick all imgs together\n",
      "5\n",
      "(837, 848, 8) 6010_4_4 1.0 0.0\n",
      "(838, 835, 8) 6070_2_3 1.0 0.0\n",
      "(837, 848, 8) 6100_2_3 1.0 0.0\n",
      "(837, 849, 8) 6110_4_0 1.0 0.0\n",
      "(837, 849, 8) 6140_1_2 1.0 0.0\n",
      "x shape is:\n",
      "(4175, 835, 10)\n",
      "y shape is:\n",
      "(4175, 835, 1)\n",
      "1.0 0.0\n",
      "let's pick some samples for validation\n",
      "Add blank, idx=3, count=1\n",
      "Add blank, idx=6, count=2\n",
      "Add blank, idx=7, count=3\n",
      "Add blank, idx=22, count=4\n",
      "Add blank, idx=24, count=5\n",
      "Add blank, idx=27, count=6\n",
      "Add blank, idx=30, count=7\n",
      "Add blank, idx=61, count=8\n",
      "Add blank, idx=62, count=9\n",
      "Add blank, idx=63, count=10\n",
      "Add blank, idx=69, count=11\n",
      "Add blank, idx=76, count=12\n",
      "Add blank, idx=111, count=13\n",
      "Add blank, idx=121, count=14\n",
      "Add blank, idx=123, count=15\n",
      "Add blank, idx=135, count=16\n",
      "Add blank, idx=149, count=17\n",
      "Add blank, idx=154, count=18\n",
      "Add blank, idx=165, count=19\n",
      "Add blank, idx=168, count=20\n",
      "Add blank, idx=169, count=21\n",
      "Add blank, idx=174, count=22\n",
      "Add blank, idx=177, count=23\n",
      "Add blank, idx=178, count=24\n",
      "Add blank, idx=189, count=25\n",
      "Add blank, idx=204, count=26\n",
      "Add blank, idx=205, count=27\n",
      "Add blank, idx=209, count=28\n",
      "Add blank, idx=221, count=29\n",
      "Add blank, idx=239, count=30\n",
      "Add blank, idx=242, count=31\n",
      "Add blank, idx=250, count=32\n",
      "Add blank, idx=267, count=33\n",
      "Add blank, idx=285, count=34\n",
      "Add blank, idx=289, count=35\n",
      "(77, 10, 160, 160) (77, 1, 160, 160) 1.0 -2.06840395927 1.0 0.0\n",
      "Validation data shapes:\n",
      "(77, 10, 160, 160)\n",
      "(77, 1, 160, 160)\n"
     ]
    }
   ],
   "source": [
    "stick_all_train()\n",
    "\n",
    "stick_all_val()\n",
    "make_val()"
   ]
  },
  {
   "cell_type": "code",
   "execution_count": 18,
   "metadata": {
    "collapsed": true
   },
   "outputs": [],
   "source": [
    "def get_unet_M8_NDVI_NDWI():\n",
    "    inputs = Input((8+2, ISZ, ISZ))\n",
    "    conv1 = Conv2D(32, (3, 3), activation='relu', padding='same')(inputs)\n",
    "    conv1 = Conv2D(32, (3, 3), activation='relu', padding='same')(conv1)\n",
    "    pool1 = MaxPooling2D(pool_size=(2, 2))(conv1)\n",
    "\n",
    "    conv2 = Conv2D(64, (3, 3), activation='relu', padding='same')(pool1)\n",
    "    conv2 = Conv2D(64, (3, 3), activation='relu', padding='same')(conv2)\n",
    "    pool2 = MaxPooling2D(pool_size=(2, 2))(conv2)\n",
    "\n",
    "    conv3 = Conv2D(128, (3, 3), activation='relu', padding='same')(pool2)\n",
    "    conv3 = Conv2D(128, (3, 3), activation='relu', padding='same')(conv3)\n",
    "    pool3 = MaxPooling2D(pool_size=(2, 2))(conv3)\n",
    "\n",
    "    conv4 = Conv2D(256, (3, 3), activation='relu', padding='same')(pool3)\n",
    "    conv4 = Conv2D(256, (3, 3), activation='relu', padding='same')(conv4)\n",
    "    pool4 = MaxPooling2D(pool_size=(2, 2))(conv4)\n",
    "\n",
    "    conv5 = Conv2D(512, (3, 3), activation='relu', padding='same')(pool4)\n",
    "    conv5 = Conv2D(512, (3, 3), activation='relu', padding='same')(conv5)\n",
    "\n",
    "    up6 = concatenate([Conv2DTranspose(256, (2, 2), strides=(2, 2), padding='same')(conv5), conv4], axis=1)\n",
    "    conv6 = Conv2D(256, (3, 3), activation='relu', padding='same')(up6)\n",
    "    conv6 = Conv2D(256, (3, 3), activation='relu', padding='same')(conv6)\n",
    "\n",
    "    up7 = concatenate([Conv2DTranspose(128, (2, 2), strides=(2, 2), padding='same')(conv6), conv3], axis=1)\n",
    "    conv7 = Conv2D(128, (3, 3), activation='relu', padding='same')(up7)\n",
    "    conv7 = Conv2D(128, (3, 3), activation='relu', padding='same')(conv7)\n",
    "\n",
    "    up8 = concatenate([Conv2DTranspose(64, (2, 2), strides=(2, 2), padding='same')(conv7), conv2], axis=1)\n",
    "    conv8 = Conv2D(64, (3, 3), activation='relu', padding='same')(up8)\n",
    "    conv8 = Conv2D(64, (3, 3), activation='relu', padding='same')(conv8)\n",
    "\n",
    "    up9 = concatenate([Conv2DTranspose(32, (2, 2), strides=(2, 2), padding='same')(conv8), conv1], axis=1)\n",
    "    conv9 = Conv2D(32, (3, 3), activation='relu', padding='same')(up9)\n",
    "    conv9 = Conv2D(32, (3, 3), activation='relu', padding='same')(conv9)\n",
    "\n",
    "    conv10 = Conv2D(N_Cls, (1, 1), activation='sigmoid')(conv9)\n",
    "\n",
    "    model = Model(inputs=[inputs], outputs=[conv10])\n",
    "    model.compile(optimizer=Adam(), loss='binary_crossentropy', \n",
    "                  metrics=[jaccard_coef, jaccard_coef_int, 'accuracy'])\n",
    "    return model"
   ]
  },
  {
   "cell_type": "code",
   "execution_count": 18,
   "metadata": {
    "collapsed": true
   },
   "outputs": [],
   "source": [
    "x_val, y_val = np.load(inDir + '/data/x_val_%d.npy' % N_Cls), np.load(inDir + '/data/y_val_%d.npy' % N_Cls)\n",
    "img = np.load(inDir + '/data/x_trn_%d.npy' % N_Cls)\n",
    "msk = np.load(inDir + '/data/y_trn_%d.npy' % N_Cls)\n",
    "\n",
    "model = get_unet_M8_NDVI_NDWI()"
   ]
  },
  {
   "cell_type": "code",
   "execution_count": 20,
   "metadata": {},
   "outputs": [
    {
     "name": "stdout",
     "output_type": "stream",
     "text": [
      "Add blank, idx=20, count=1\n",
      "Add blank, idx=108, count=2\n",
      "Add blank, idx=110, count=3\n",
      "Add blank, idx=118, count=4\n",
      "Add blank, idx=143, count=5\n",
      "Add blank, idx=152, count=6\n",
      "Add blank, idx=177, count=7\n",
      "Add blank, idx=182, count=8\n",
      "Add blank, idx=209, count=9\n",
      "Add blank, idx=219, count=10\n",
      "Add blank, idx=233, count=11\n",
      "Add blank, idx=262, count=12\n",
      "Add blank, idx=318, count=13\n",
      "Add blank, idx=320, count=14\n",
      "Add blank, idx=323, count=15\n",
      "Add blank, idx=324, count=16\n",
      "Add blank, idx=346, count=17\n",
      "Add blank, idx=348, count=18\n",
      "Add blank, idx=373, count=19\n",
      "Add blank, idx=389, count=20\n",
      "Add blank, idx=445, count=21\n",
      "Add blank, idx=450, count=22\n",
      "Add blank, idx=500, count=23\n",
      "Add blank, idx=518, count=24\n",
      "Add blank, idx=538, count=25\n",
      "Add blank, idx=565, count=26\n",
      "(91, 10, 160, 160) (91, 1, 160, 160) 1.0 -2.25626909733 1.0 0.0\n"
     ]
    }
   ],
   "source": [
    "del x_trn\n",
    "del y_trn\n",
    "x_trn, y_trn = get_patches(img, msk, amt=600, aug=False)"
   ]
  },
  {
   "cell_type": "code",
   "execution_count": 21,
   "metadata": {},
   "outputs": [
    {
     "name": "stdout",
     "output_type": "stream",
     "text": [
      "Train on 91 samples, validate on 77 samples\n",
      "Epoch 1/1\n",
      "91/91 [==============================] - 211s - loss: 0.6794 - jaccard_coef: 0.2084 - jaccard_coef_int: 0.0045 - acc: 0.6045 - val_loss: 0.5867 - val_jaccard_coef: 0.1753 - val_jaccard_coef_int: 1.6717e-18 - val_acc: 0.7526\n"
     ]
    },
    {
     "data": {
      "text/plain": [
       "<keras.callbacks.History at 0x7fead07d0c88>"
      ]
     },
     "execution_count": 21,
     "metadata": {},
     "output_type": "execute_result"
    }
   ],
   "source": [
    "model.fit(x_trn, y_trn, batch_size=64, epochs=1, verbose=1, shuffle=True,\n",
    "          validation_data=(x_val, y_val))"
   ]
  },
  {
   "cell_type": "code",
   "execution_count": 22,
   "metadata": {},
   "outputs": [
    {
     "name": "stdout",
     "output_type": "stream",
     "text": [
      "Train on 91 samples, validate on 77 samples\n",
      "Epoch 1/5\n",
      "91/91 [==============================] - 209s - loss: 0.6126 - jaccard_coef: 0.1729 - jaccard_coef_int: 1.6729e-18 - acc: 0.7259 - val_loss: 0.5739 - val_jaccard_coef: 0.1685 - val_jaccard_coef_int: 1.7449e-18 - val_acc: 0.7526\n",
      "Epoch 2/5\n",
      "91/91 [==============================] - 209s - loss: 0.5720 - jaccard_coef: 0.1894 - jaccard_coef_int: 1.4127e-18 - acc: 0.7259 - val_loss: 0.6033 - val_jaccard_coef: 0.1791 - val_jaccard_coef_int: 1.5925e-18 - val_acc: 0.7526\n",
      "Epoch 3/5\n",
      "91/91 [==============================] - 209s - loss: 0.5396 - jaccard_coef: 0.2035 - jaccard_coef_int: 1.4570e-18 - acc: 0.7259 - val_loss: 0.6235 - val_jaccard_coef: 0.1787 - val_jaccard_coef_int: 1.5589e-18 - val_acc: 0.7526\n",
      "Epoch 4/5\n",
      "91/91 [==============================] - 209s - loss: 0.4894 - jaccard_coef: 0.2156 - jaccard_coef_int: 1.6698e-18 - acc: 0.7259 - val_loss: 0.6677 - val_jaccard_coef: 0.1732 - val_jaccard_coef_int: 1.5374e-18 - val_acc: 0.7526\n",
      "Epoch 5/5\n",
      "91/91 [==============================] - 209s - loss: 0.4714 - jaccard_coef: 0.2324 - jaccard_coef_int: 1.6852e-18 - acc: 0.7259 - val_loss: 0.6618 - val_jaccard_coef: 0.1861 - val_jaccard_coef_int: 1.4536e-06 - val_acc: 0.7525\n"
     ]
    },
    {
     "data": {
      "text/plain": [
       "<keras.callbacks.History at 0x7feabfda02e8>"
      ]
     },
     "execution_count": 22,
     "metadata": {},
     "output_type": "execute_result"
    }
   ],
   "source": [
    "model.fit(x_trn, y_trn, batch_size=64, epochs=5, verbose=1, shuffle=True,\n",
    "          validation_data=(x_val, y_val))"
   ]
  },
  {
   "cell_type": "code",
   "execution_count": 24,
   "metadata": {},
   "outputs": [
    {
     "name": "stdout",
     "output_type": "stream",
     "text": [
      "Train on 91 samples, validate on 77 samples\n",
      "Epoch 1/1\n",
      "91/91 [==============================] - 209s - loss: 0.4556 - jaccard_coef: 0.2725 - jaccard_coef_int: 0.0139 - acc: 0.7292 - val_loss: 0.6645 - val_jaccard_coef: 0.1946 - val_jaccard_coef_int: 0.0641 - val_acc: 0.5363\n"
     ]
    },
    {
     "data": {
      "text/plain": [
       "<keras.callbacks.History at 0x7fead06fab38>"
      ]
     },
     "execution_count": 24,
     "metadata": {},
     "output_type": "execute_result"
    }
   ],
   "source": [
    "model.fit(x_trn, y_trn, batch_size=64, epochs=1, verbose=1, shuffle=True,\n",
    "          validation_data=(x_val, y_val))"
   ]
  },
  {
   "cell_type": "code",
   "execution_count": 26,
   "metadata": {},
   "outputs": [
    {
     "data": {
      "text/plain": [
       "0.001"
      ]
     },
     "execution_count": 26,
     "metadata": {},
     "output_type": "execute_result"
    }
   ],
   "source": [
    "K.get_value(model.optimizer.lr)"
   ]
  },
  {
   "cell_type": "code",
   "execution_count": 27,
   "metadata": {},
   "outputs": [
    {
     "name": "stdout",
     "output_type": "stream",
     "text": [
      "Train on 91 samples, validate on 77 samples\n",
      "Epoch 1/1\n",
      "91/91 [==============================] - 209s - loss: 0.4431 - jaccard_coef: 0.2776 - jaccard_coef_int: 0.1367 - acc: 0.7677 - val_loss: 0.6646 - val_jaccard_coef: 0.1946 - val_jaccard_coef_int: 0.0681 - val_acc: 0.5287\n"
     ]
    },
    {
     "data": {
      "text/plain": [
       "<keras.callbacks.History at 0x7feabfab8278>"
      ]
     },
     "execution_count": 27,
     "metadata": {},
     "output_type": "execute_result"
    }
   ],
   "source": [
    "K.set_value(model.optimizer.lr, 0.00001)\n",
    "model.fit(x_trn, y_trn, batch_size=64, epochs=1, verbose=1, shuffle=True,\n",
    "          validation_data=(x_val, y_val))"
   ]
  },
  {
   "cell_type": "code",
   "execution_count": 28,
   "metadata": {},
   "outputs": [
    {
     "data": {
      "text/plain": [
       "9.9999997e-06"
      ]
     },
     "execution_count": 28,
     "metadata": {},
     "output_type": "execute_result"
    }
   ],
   "source": [
    "K.get_value(model.optimizer.lr)"
   ]
  },
  {
   "cell_type": "markdown",
   "metadata": {},
   "source": [
    "Imediately overfitting - makes me think the trn/val data are quite different. Lets visualise:"
   ]
  },
  {
   "cell_type": "markdown",
   "metadata": {},
   "source": [
    "### Quick check trn/val images look sensible (to prevent massively different/overfitting)"
   ]
  },
  {
   "cell_type": "code",
   "execution_count": 30,
   "metadata": {
    "collapsed": true
   },
   "outputs": [],
   "source": [
    "import scipy.misc\n",
    "\n",
    "mkdir_p(\"visualise/trn\")\n",
    "mkdir_p(\"visualise/val\")\n",
    "\n",
    "def save_visual_msk_patch(np_arr, folder, sample_idx=0):\n",
    "    scipy.misc.imsave(\"visualise/{}/{}msk.bmp\".format(folder, sample_idx), np_arr[sample_idx][0])\n",
    "\n",
    "def save_visual_img_patch(np_arr, folder, sample_idx=0, band=0):\n",
    "    scipy.misc.imsave(\"visualise/{}/{}img_{}.bmp\".format(folder, sample_idx, band), np_arr[sample_idx][0])"
   ]
  },
  {
   "cell_type": "code",
   "execution_count": 31,
   "metadata": {
    "collapsed": true
   },
   "outputs": [],
   "source": [
    "for i in range(x_trn.shape[0]):\n",
    "    save_visual_img_patch(x_trn, \"trn\", sample_idx=i)\n",
    "    save_visual_msk_patch(y_trn, \"trn\", sample_idx=i)\n",
    "    \n",
    "for i in range(x_val.shape[0]):\n",
    "    save_visual_img_patch(x_val, \"val\", sample_idx=i)\n",
    "    save_visual_msk_patch(y_val, \"val\", sample_idx=i)"
   ]
  },
  {
   "cell_type": "markdown",
   "metadata": {},
   "source": [
    "Val looks a good mix - Trn is mostly crop/desserty. Like generate Trn again"
   ]
  },
  {
   "cell_type": "code",
   "execution_count": 32,
   "metadata": {},
   "outputs": [
    {
     "name": "stdout",
     "output_type": "stream",
     "text": [
      "Add blank, idx=8, count=1\n",
      "Add blank, idx=43, count=2\n",
      "Add blank, idx=93, count=3\n",
      "Add blank, idx=99, count=4\n",
      "Add blank, idx=105, count=5\n",
      "Add blank, idx=118, count=6\n",
      "Add blank, idx=124, count=7\n",
      "Add blank, idx=156, count=8\n",
      "Add blank, idx=161, count=9\n",
      "Add blank, idx=167, count=10\n",
      "Add blank, idx=169, count=11\n",
      "Add blank, idx=194, count=12\n",
      "Add blank, idx=231, count=13\n",
      "Add blank, idx=252, count=14\n",
      "Add blank, idx=262, count=15\n",
      "Add blank, idx=263, count=16\n",
      "Add blank, idx=268, count=17\n",
      "Add blank, idx=272, count=18\n",
      "Add blank, idx=287, count=19\n",
      "Add blank, idx=327, count=20\n",
      "Add blank, idx=333, count=21\n",
      "Add blank, idx=366, count=22\n",
      "Add blank, idx=399, count=23\n",
      "Add blank, idx=415, count=24\n",
      "Add blank, idx=421, count=25\n",
      "Add blank, idx=432, count=26\n",
      "Add blank, idx=467, count=27\n",
      "Add blank, idx=499, count=28\n",
      "Add blank, idx=538, count=29\n",
      "Add blank, idx=543, count=30\n",
      "Add blank, idx=551, count=31\n",
      "Add blank, idx=555, count=32\n",
      "Add blank, idx=586, count=33\n",
      "(102, 10, 160, 160) (102, 1, 160, 160) 1.0 -2.20608580112 1.0 0.0\n"
     ]
    }
   ],
   "source": [
    "del x_trn\n",
    "del y_trn\n",
    "x_trn, y_trn = get_patches(img, msk, amt=600, aug=False)"
   ]
  },
  {
   "cell_type": "code",
   "execution_count": 33,
   "metadata": {
    "collapsed": true
   },
   "outputs": [],
   "source": [
    "for i in range(x_trn.shape[0]):\n",
    "    save_visual_img_patch(x_trn, \"trn\", sample_idx=i)\n",
    "    save_visual_msk_patch(y_trn, \"trn\", sample_idx=i)"
   ]
  },
  {
   "cell_type": "markdown",
   "metadata": {},
   "source": [
    "Still getting lots of \"rural\" in training - lets replace old validation data with a more urban setting."
   ]
  },
  {
   "cell_type": "markdown",
   "metadata": {},
   "source": [
    "### Changing validation data"
   ]
  },
  {
   "cell_type": "markdown",
   "metadata": {},
   "source": [
    "(Manually via bash swapped 6170_2_4 from train csv with 6110_4_0 from val csv)"
   ]
  },
  {
   "cell_type": "code",
   "execution_count": 34,
   "metadata": {
    "collapsed": true
   },
   "outputs": [],
   "source": [
    "DF = pd.read_csv(data_base_dir+'train_wkt_v4_TREES.csv')\n",
    "val_DF = pd.read_csv(data_base_dir+'val_wkt_v4_TREES.csv')\n",
    "val_img_names = [\"6010_4_4\", \"6070_2_3\", \"6100_2_3\", \"6140_1_2\", \"6170_2_4\"]"
   ]
  },
  {
   "cell_type": "code",
   "execution_count": 40,
   "metadata": {
    "collapsed": true
   },
   "outputs": [],
   "source": [
    "def make_val(aug=False):\n",
    "    print(\"let's pick some samples for validation\")\n",
    "    img = np.load(inDir + '/data/x_valALL_%d.npy' % N_Cls)\n",
    "    msk = np.load(inDir + '/data/y_valALL_%d.npy' % N_Cls)\n",
    "    x, y = get_patches(img, msk, amt=300, aug=aug)  # amt := attempt (maybe - i.e. attempting to create 3000 patches, without\n",
    "                                            # percentage area cover threshold.\n",
    "\n",
    "    print(\"Validation data shapes:\")\n",
    "    print(x.shape)\n",
    "    print(y.shape)\n",
    "\n",
    "    np.save(inDir + '/data/x_val_%d' % N_Cls, x)\n",
    "    np.save(inDir + '/data/y_val_%d' % N_Cls, y)\n",
    "    \n",
    "    \n",
    "def stick_all_train():\n",
    "    print(\"let's stick all imgs together\")\n",
    "    s = 835  # size of the M images (roughly)\n",
    "\n",
    "    # 25 training images grid\n",
    "    x = np.zeros((5 * s, 4 * s, 8+2))      # (8 + ndvi + ndwi)\n",
    "    y = np.zeros((5 * s, 4 * s, N_Cls))  # axis=2 denote the class label\n",
    "\n",
    "    ids = sorted(DF.ImageId.unique())\n",
    "    print(len(ids))\n",
    "    \n",
    "    \n",
    "    # x start grid position (based on image size)\n",
    "    for i in range(5):\n",
    "        # y start grid position (based on image size)\n",
    "        for j in range(4):\n",
    "            print(1 * i + j)\n",
    "            id = ids[1 * i + j]\n",
    "\n",
    "            img = M(id)\n",
    "        \n",
    "            img = stretch_n(img)\n",
    "            print(img.shape, id, np.amax(img), np.amin(img))\n",
    "            \n",
    "            x[s * i:s * i + s, s * j:s * j + s, :8] = img[:s, :s, :]\n",
    "            \n",
    "            # Add indexes from above\n",
    "            ndvi, savi, evi, ndwi = create_indexes(id)\n",
    "            x[s * i:s * i + s, s * j:s * j + s, 8] = ndvi[:s, :s]   \n",
    "            x[s * i:s * i + s, s * j:s * j + s, 9] = ndwi[:s, :s]   \n",
    "            \n",
    "            # generate training masks by class\n",
    "            for z in range(N_Cls):\n",
    "                y[s * i:s * i + s, s * j:s * j + s, z] = generate_mask_for_image_and_class(\n",
    "                    (img.shape[0], img.shape[1]), id, z + 1)[:s, :s]\n",
    "    \n",
    "    print(\"x shape is:\")\n",
    "    print(x.shape)\n",
    "    print(\"y shape is:\")\n",
    "    print(y.shape)\n",
    "\n",
    "    print(np.amax(y), np.amin(y))\n",
    "    \n",
    "    np.save(inDir + '/data/x_trn_%d' % N_Cls, x)\n",
    "    np.save(inDir + '/data/y_trn_%d' % N_Cls, y)\n",
    "    \n",
    "    \n",
    "def stick_all_val():\n",
    "    print(\"let's stick all imgs together\")\n",
    "    s = 835  # size of the M images\n",
    "\n",
    "    # 25 training images grid\n",
    "    x = np.zeros((5 * s, 1 * s, 8+2))      # (6+ ndvi + ndwi)\n",
    "    y = np.zeros((5 * s, 1 * s, N_Cls))   # axis=2 denote the class label\n",
    "\n",
    "    ids = sorted(val_DF.ImageId.unique())\n",
    "    print(len(ids))\n",
    "\n",
    "    # x start grid position (based on image size)\n",
    "    for i in range(5):\n",
    "        # y start grid position (based on image size)\n",
    "        for j in range(1):\n",
    "            print(1 * i + j)\n",
    "            id = ids[1 * i + j]\n",
    "\n",
    "            img = M(id)\n",
    "            \n",
    "            img = stretch_n(img)\n",
    "            print(img.shape, id, np.amax(img), np.amin(img))\n",
    "            \n",
    "            x[s * i:s * i + s, s * j:s * j + s, :8] = img[:s, :s, :]\n",
    "            \n",
    "            # Add indexes from above\n",
    "            ndvi, savi, evi, ndwi = create_indexes(id)\n",
    "            x[s * i:s * i + s, s * j:s * j + s, 8] = ndvi[:s, :s]\n",
    "            x[s * i:s * i + s, s * j:s * j + s, 9] = ndwi[:s, :s]   \n",
    "            \n",
    "            # generate training masks by class\n",
    "            for z in range(N_Cls):\n",
    "                y[s * i:s * i + s, s * j:s * j + s, z] = generate_mask_for_image_and_class(\n",
    "                    (img.shape[0], img.shape[1]), id, z + 1, wkt_list_pandas=val_DF)[:s, :s]\n",
    "\n",
    "    print(\"x shape is:\")\n",
    "    print(x.shape)\n",
    "    print(\"y shape is:\")\n",
    "    print(y.shape)\n",
    "\n",
    "    print(np.amax(y), np.amin(y))\n",
    "\n",
    "    np.save(inDir + '/data/x_valALL_%d' % N_Cls, x)\n",
    "    np.save(inDir + '/data/y_valALL_%d' % N_Cls, y)"
   ]
  },
  {
   "cell_type": "code",
   "execution_count": 39,
   "metadata": {},
   "outputs": [
    {
     "data": {
      "text/plain": [
       "['6010_1_2',\n",
       " '6010_4_2',\n",
       " '6040_1_0',\n",
       " '6040_1_3',\n",
       " '6040_2_2',\n",
       " '6040_4_4',\n",
       " '6060_2_3',\n",
       " '6090_2_0',\n",
       " '6100_1_3',\n",
       " '6100_2_2',\n",
       " '6110_1_2',\n",
       " '6110_3_1',\n",
       " '6110_4_0',\n",
       " '6120_2_0',\n",
       " '6120_2_2',\n",
       " '6140_3_1',\n",
       " '6150_2_3',\n",
       " '6160_2_1',\n",
       " '6170_0_4',\n",
       " '6170_4_1']"
      ]
     },
     "execution_count": 39,
     "metadata": {},
     "output_type": "execute_result"
    }
   ],
   "source": [
    "sorted(DF.ImageId.unique())"
   ]
  },
  {
   "cell_type": "code",
   "execution_count": 41,
   "metadata": {},
   "outputs": [
    {
     "name": "stdout",
     "output_type": "stream",
     "text": [
      "let's stick all imgs together\n",
      "20\n",
      "0\n",
      "(837, 849, 8) 6010_1_2 1.0 0.0\n",
      "1\n",
      "(837, 849, 8) 6010_4_2 1.0 0.0\n"
     ]
    },
    {
     "name": "stderr",
     "output_type": "stream",
     "text": [
      "/usr/local/lib/python3.4/dist-packages/ipykernel_launcher.py:36: RuntimeWarning: divide by zero encountered in true_divide\n"
     ]
    },
    {
     "name": "stdout",
     "output_type": "stream",
     "text": [
      "2\n",
      "(837, 848, 8) 6040_1_0 1.0 0.0\n",
      "3\n",
      "(837, 848, 8) 6040_1_3 1.0 0.0\n",
      "1\n",
      "(837, 849, 8) 6010_4_2 1.0 0.0\n",
      "2\n",
      "(837, 848, 8) 6040_1_0 1.0 0.0\n",
      "3\n",
      "(837, 848, 8) 6040_1_3 1.0 0.0\n",
      "4\n",
      "(837, 848, 8) 6040_2_2 1.0 0.0\n",
      "2\n",
      "(837, 848, 8) 6040_1_0 1.0 0.0\n",
      "3\n",
      "(837, 848, 8) 6040_1_3 1.0 0.0\n",
      "4\n",
      "(837, 848, 8) 6040_2_2 1.0 0.0\n",
      "5\n",
      "(837, 846, 8) 6040_4_4 1.0 0.0\n",
      "3\n",
      "(837, 848, 8) 6040_1_3 1.0 0.0\n",
      "4\n",
      "(837, 848, 8) 6040_2_2 1.0 0.0\n",
      "5\n",
      "(837, 846, 8) 6040_4_4 1.0 0.0\n",
      "6\n",
      "(837, 851, 8) 6060_2_3 1.0 0.0\n",
      "4\n",
      "(837, 848, 8) 6040_2_2 1.0 0.0\n",
      "5\n",
      "(837, 846, 8) 6040_4_4 1.0 0.0\n",
      "6\n",
      "(837, 851, 8) 6060_2_3 1.0 0.0\n",
      "7\n",
      "(837, 848, 8) 6090_2_0 1.0 0.0\n",
      "x shape is:\n",
      "(4175, 3340, 10)\n",
      "y shape is:\n",
      "(4175, 3340, 1)\n",
      "1.0 0.0\n",
      "let's stick all imgs together\n",
      "5\n",
      "0\n",
      "(837, 848, 8) 6010_4_4 1.0 0.0\n",
      "1\n",
      "(838, 835, 8) 6070_2_3 1.0 0.0\n",
      "2\n",
      "(837, 848, 8) 6100_2_3 1.0 0.0\n",
      "3\n",
      "(837, 849, 8) 6140_1_2 1.0 0.0\n",
      "4\n",
      "(837, 848, 8) 6170_2_4 1.0 0.0\n",
      "x shape is:\n",
      "(4175, 835, 10)\n",
      "y shape is:\n",
      "(4175, 835, 1)\n",
      "1.0 0.0\n",
      "let's pick some samples for validation\n",
      "Add blank, idx=10, count=1\n",
      "Add blank, idx=11, count=2\n",
      "Add blank, idx=12, count=3\n",
      "Add blank, idx=13, count=4\n",
      "Add blank, idx=14, count=5\n",
      "Add blank, idx=28, count=6\n",
      "Add blank, idx=43, count=7\n",
      "Add blank, idx=44, count=8\n",
      "Add blank, idx=47, count=9\n",
      "Add blank, idx=49, count=10\n",
      "Add blank, idx=54, count=11\n",
      "Add blank, idx=59, count=12\n",
      "Add blank, idx=60, count=13\n",
      "Add blank, idx=70, count=14\n",
      "Add blank, idx=72, count=15\n",
      "Add blank, idx=75, count=16\n",
      "Add blank, idx=91, count=17\n",
      "Add blank, idx=125, count=18\n",
      "Add blank, idx=140, count=19\n",
      "Add blank, idx=143, count=20\n",
      "Add blank, idx=151, count=21\n",
      "Add blank, idx=160, count=22\n",
      "Add blank, idx=184, count=23\n",
      "Add blank, idx=196, count=24\n",
      "Add blank, idx=200, count=25\n",
      "Add blank, idx=206, count=26\n",
      "Add blank, idx=220, count=27\n",
      "Add blank, idx=225, count=28\n",
      "Add blank, idx=231, count=29\n",
      "Add blank, idx=237, count=30\n",
      "Add blank, idx=256, count=31\n",
      "Add blank, idx=265, count=32\n",
      "Add blank, idx=267, count=33\n",
      "Add blank, idx=275, count=34\n",
      "Add blank, idx=278, count=35\n",
      "Add blank, idx=279, count=36\n",
      "Add blank, idx=284, count=37\n",
      "Add blank, idx=287, count=38\n",
      "Add blank, idx=291, count=39\n",
      "Add blank, idx=293, count=40\n",
      "Add blank, idx=295, count=41\n",
      "Add blank, idx=297, count=42\n",
      "Add blank, idx=298, count=43\n",
      "(89, 10, 160, 160) (89, 1, 160, 160) 1.0 -2.22901272774 1.0 0.0\n",
      "Validation data shapes:\n",
      "(89, 10, 160, 160)\n",
      "(89, 1, 160, 160)\n"
     ]
    }
   ],
   "source": [
    "stick_all_train()\n",
    "\n",
    "stick_all_val()\n",
    "make_val()"
   ]
  },
  {
   "cell_type": "markdown",
   "metadata": {},
   "source": [
    "### BUG: the looping for creating the training data was going over the same image twice - hence lots of the same images in train!"
   ]
  },
  {
   "cell_type": "markdown",
   "metadata": {},
   "source": [
    "#### Fix: change `id = ids[1 * i + j]` to `id = ids[4 * i + j]`"
   ]
  },
  {
   "cell_type": "code",
   "execution_count": 47,
   "metadata": {
    "collapsed": true
   },
   "outputs": [],
   "source": [
    "def make_val(aug=False):\n",
    "    print(\"let's pick some samples for validation\")\n",
    "    img = np.load(inDir + '/data/x_valALL_%d.npy' % N_Cls)\n",
    "    msk = np.load(inDir + '/data/y_valALL_%d.npy' % N_Cls)\n",
    "    x, y = get_patches(img, msk, amt=300, aug=aug)  # amt := attempt (maybe - i.e. attempting to create 3000 patches, without\n",
    "                                            # percentage area cover threshold.\n",
    "\n",
    "    print(\"Validation data shapes:\")\n",
    "    print(x.shape)\n",
    "    print(y.shape)\n",
    "\n",
    "    np.save(inDir + '/data/x_val_%d' % N_Cls, x)\n",
    "    np.save(inDir + '/data/y_val_%d' % N_Cls, y)\n",
    "    \n",
    "    \n",
    "def stick_all_train():\n",
    "    print(\"let's stick all imgs together\")\n",
    "    s = 835  # size of the M images (roughly)\n",
    "\n",
    "    # 25 training images grid\n",
    "    x = np.zeros((5 * s, 4 * s, 8+2))      # (8 + ndvi + ndwi)\n",
    "    y = np.zeros((5 * s, 4 * s, N_Cls))  # axis=2 denote the class label\n",
    "\n",
    "    ids = sorted(DF.ImageId.unique())\n",
    "    print(len(ids))\n",
    "    \n",
    "    \n",
    "    # x start grid position (based on image size)\n",
    "    for i in range(5):\n",
    "        # y start grid position (based on image size)\n",
    "        for j in range(4):\n",
    "            id = ids[4 * i + j]\n",
    "\n",
    "            img = M(id)\n",
    "        \n",
    "            img = stretch_n(img)\n",
    "            print(img.shape, id, np.amax(img), np.amin(img))\n",
    "            \n",
    "            x[s * i:s * i + s, s * j:s * j + s, :8] = img[:s, :s, :]\n",
    "            \n",
    "            # Add indexes from above\n",
    "            ndvi, savi, evi, ndwi = create_indexes(id)\n",
    "            x[s * i:s * i + s, s * j:s * j + s, 8] = ndvi[:s, :s]   \n",
    "            x[s * i:s * i + s, s * j:s * j + s, 9] = ndwi[:s, :s]   \n",
    "            \n",
    "            # generate training masks by class\n",
    "            for z in range(N_Cls):\n",
    "                y[s * i:s * i + s, s * j:s * j + s, z] = generate_mask_for_image_and_class(\n",
    "                    (img.shape[0], img.shape[1]), id, z + 1)[:s, :s]\n",
    "    \n",
    "    print(\"x shape is:\")\n",
    "    print(x.shape)\n",
    "    print(\"y shape is:\")\n",
    "    print(y.shape)\n",
    "\n",
    "    print(np.amax(y), np.amin(y))\n",
    "    \n",
    "    np.save(inDir + '/data/x_trn_%d' % N_Cls, x)\n",
    "    np.save(inDir + '/data/y_trn_%d' % N_Cls, y)\n",
    "    \n",
    "    \n",
    "def stick_all_val():\n",
    "    print(\"let's stick all imgs together\")\n",
    "    s = 835  # size of the M images\n",
    "\n",
    "    # 25 training images grid\n",
    "    x = np.zeros((5 * s, 1 * s, 8+2))      # (6+ ndvi + ndwi)\n",
    "    y = np.zeros((5 * s, 1 * s, N_Cls))   # axis=2 denote the class label\n",
    "\n",
    "    ids = sorted(val_DF.ImageId.unique())\n",
    "    print(len(ids))\n",
    "\n",
    "    # x start grid position (based on image size)\n",
    "    for i in range(5):\n",
    "        # y start grid position (based on image size)\n",
    "        for j in range(1):\n",
    "            id = ids[1 * i + j]\n",
    "\n",
    "            img = M(id)\n",
    "            \n",
    "            img = stretch_n(img)\n",
    "            print(img.shape, id, np.amax(img), np.amin(img))\n",
    "            \n",
    "            x[s * i:s * i + s, s * j:s * j + s, :8] = img[:s, :s, :]\n",
    "            \n",
    "            # Add indexes from above\n",
    "            ndvi, savi, evi, ndwi = create_indexes(id)\n",
    "            x[s * i:s * i + s, s * j:s * j + s, 8] = ndvi[:s, :s]\n",
    "            x[s * i:s * i + s, s * j:s * j + s, 9] = ndwi[:s, :s]   \n",
    "            \n",
    "            # generate training masks by class\n",
    "            for z in range(N_Cls):\n",
    "                y[s * i:s * i + s, s * j:s * j + s, z] = generate_mask_for_image_and_class(\n",
    "                    (img.shape[0], img.shape[1]), id, z + 1, wkt_list_pandas=val_DF)[:s, :s]\n",
    "\n",
    "    print(\"x shape is:\")\n",
    "    print(x.shape)\n",
    "    print(\"y shape is:\")\n",
    "    print(y.shape)\n",
    "\n",
    "    print(np.amax(y), np.amin(y))\n",
    "\n",
    "    np.save(inDir + '/data/x_valALL_%d' % N_Cls, x)\n",
    "    np.save(inDir + '/data/y_valALL_%d' % N_Cls, y)"
   ]
  },
  {
   "cell_type": "code",
   "execution_count": 48,
   "metadata": {},
   "outputs": [
    {
     "name": "stdout",
     "output_type": "stream",
     "text": [
      "let's stick all imgs together\n",
      "20\n",
      "(837, 849, 8) 6010_1_2 1.0 0.0\n",
      "(837, 849, 8) 6010_4_2 1.0 0.0\n"
     ]
    },
    {
     "name": "stderr",
     "output_type": "stream",
     "text": [
      "/usr/local/lib/python3.4/dist-packages/ipykernel_launcher.py:36: RuntimeWarning: divide by zero encountered in true_divide\n"
     ]
    },
    {
     "name": "stdout",
     "output_type": "stream",
     "text": [
      "(837, 848, 8) 6040_1_0 1.0 0.0\n",
      "(837, 848, 8) 6040_1_3 1.0 0.0\n",
      "(837, 848, 8) 6040_2_2 1.0 0.0\n",
      "(837, 846, 8) 6040_4_4 1.0 0.0\n",
      "(837, 851, 8) 6060_2_3 1.0 0.0\n",
      "(837, 848, 8) 6090_2_0 1.0 0.0\n",
      "(837, 848, 8) 6100_1_3 1.0 0.0\n",
      "(837, 848, 8) 6100_2_2 1.0 0.0\n",
      "(837, 849, 8) 6110_1_2 1.0 0.0\n",
      "(837, 849, 8) 6110_3_1 1.0 0.0\n",
      "(837, 849, 8) 6110_4_0 1.0 0.0\n",
      "(837, 851, 8) 6120_2_0 1.0 0.0\n",
      "(837, 851, 8) 6120_2_2 1.0 0.0\n",
      "(837, 849, 8) 6140_3_1 1.0 0.0\n",
      "(837, 851, 8) 6150_2_3 1.0 0.0\n",
      "(837, 848, 8) 6160_2_1 1.0 0.0\n",
      "(837, 848, 8) 6170_0_4 1.0 0.0\n",
      "(837, 848, 8) 6170_4_1 1.0 0.0\n",
      "x shape is:\n",
      "(4175, 3340, 10)\n",
      "y shape is:\n",
      "(4175, 3340, 1)\n",
      "1.0 0.0\n",
      "let's stick all imgs together\n",
      "5\n",
      "(837, 848, 8) 6010_4_4 1.0 0.0\n",
      "(838, 835, 8) 6070_2_3 1.0 0.0\n",
      "(837, 848, 8) 6100_2_3 1.0 0.0\n",
      "(837, 849, 8) 6140_1_2 1.0 0.0\n",
      "(837, 848, 8) 6170_2_4 1.0 0.0\n",
      "x shape is:\n",
      "(4175, 835, 10)\n",
      "y shape is:\n",
      "(4175, 835, 1)\n",
      "1.0 0.0\n",
      "let's pick some samples for validation\n",
      "Add blank, idx=6, count=1\n",
      "Add blank, idx=14, count=2\n",
      "Add blank, idx=20, count=3\n",
      "Add blank, idx=21, count=4\n",
      "Add blank, idx=25, count=5\n",
      "Add blank, idx=31, count=6\n",
      "Add blank, idx=38, count=7\n",
      "Add blank, idx=49, count=8\n",
      "Add blank, idx=63, count=9\n",
      "Add blank, idx=64, count=10\n",
      "Add blank, idx=74, count=11\n",
      "Add blank, idx=84, count=12\n",
      "Add blank, idx=90, count=13\n",
      "Add blank, idx=100, count=14\n",
      "Add blank, idx=103, count=15\n",
      "Add blank, idx=106, count=16\n",
      "Add blank, idx=114, count=17\n",
      "Add blank, idx=118, count=18\n",
      "Add blank, idx=120, count=19\n",
      "Add blank, idx=123, count=20\n",
      "Add blank, idx=125, count=21\n",
      "Add blank, idx=135, count=22\n",
      "Add blank, idx=138, count=23\n",
      "Add blank, idx=152, count=24\n",
      "Add blank, idx=154, count=25\n",
      "Add blank, idx=155, count=26\n",
      "Add blank, idx=163, count=27\n",
      "Add blank, idx=165, count=28\n",
      "Add blank, idx=170, count=29\n",
      "Add blank, idx=172, count=30\n",
      "Add blank, idx=174, count=31\n",
      "Add blank, idx=185, count=32\n",
      "Add blank, idx=186, count=33\n",
      "Add blank, idx=188, count=34\n",
      "Add blank, idx=198, count=35\n",
      "Add blank, idx=199, count=36\n",
      "Add blank, idx=202, count=37\n",
      "Add blank, idx=205, count=38\n",
      "Add blank, idx=207, count=39\n",
      "Add blank, idx=216, count=40\n",
      "Add blank, idx=219, count=41\n",
      "Add blank, idx=230, count=42\n",
      "Add blank, idx=231, count=43\n",
      "Add blank, idx=236, count=44\n",
      "Add blank, idx=239, count=45\n",
      "Add blank, idx=244, count=46\n",
      "Add blank, idx=257, count=47\n",
      "Add blank, idx=270, count=48\n",
      "Add blank, idx=279, count=49\n",
      "Add blank, idx=282, count=50\n",
      "Add blank, idx=292, count=51\n",
      "Add blank, idx=296, count=52\n",
      "(85, 10, 160, 160) (85, 1, 160, 160) 1.0 -2.22000002861 1.0 0.0\n",
      "Validation data shapes:\n",
      "(85, 10, 160, 160)\n",
      "(85, 1, 160, 160)\n"
     ]
    }
   ],
   "source": [
    "stick_all_train()\n",
    "\n",
    "stick_all_val()\n",
    "make_val()"
   ]
  },
  {
   "cell_type": "code",
   "execution_count": 49,
   "metadata": {},
   "outputs": [
    {
     "name": "stdout",
     "output_type": "stream",
     "text": [
      "Add blank, idx=87, count=1\n",
      "Add blank, idx=99, count=2\n",
      "Add blank, idx=100, count=3\n",
      "Add blank, idx=116, count=4\n",
      "Add blank, idx=120, count=5\n",
      "Add blank, idx=132, count=6\n",
      "Add blank, idx=145, count=7\n",
      "Add blank, idx=148, count=8\n",
      "Add blank, idx=150, count=9\n",
      "Add blank, idx=157, count=10\n",
      "Add blank, idx=160, count=11\n",
      "Add blank, idx=172, count=12\n",
      "Add blank, idx=183, count=13\n",
      "Add blank, idx=187, count=14\n",
      "Add blank, idx=217, count=15\n",
      "Add blank, idx=219, count=16\n",
      "Add blank, idx=259, count=17\n",
      "Add blank, idx=270, count=18\n",
      "Add blank, idx=274, count=19\n",
      "Add blank, idx=276, count=20\n",
      "Add blank, idx=299, count=21\n",
      "Add blank, idx=306, count=22\n",
      "Add blank, idx=345, count=23\n",
      "Add blank, idx=350, count=24\n",
      "Add blank, idx=367, count=25\n",
      "Add blank, idx=369, count=26\n",
      "Add blank, idx=380, count=27\n",
      "Add blank, idx=394, count=28\n",
      "Add blank, idx=398, count=29\n",
      "Add blank, idx=406, count=30\n",
      "Add blank, idx=407, count=31\n",
      "Add blank, idx=432, count=32\n",
      "Add blank, idx=438, count=33\n",
      "Add blank, idx=442, count=34\n",
      "Add blank, idx=449, count=35\n",
      "Add blank, idx=460, count=36\n",
      "Add blank, idx=468, count=37\n",
      "Add blank, idx=478, count=38\n",
      "Add blank, idx=488, count=39\n",
      "Add blank, idx=490, count=40\n",
      "Add blank, idx=512, count=41\n",
      "Add blank, idx=555, count=42\n",
      "Add blank, idx=560, count=43\n",
      "Add blank, idx=585, count=44\n",
      "(77, 10, 160, 160) (77, 1, 160, 160) 1.0 -2.22206902504 1.0 0.0\n"
     ]
    }
   ],
   "source": [
    "x_val, y_val = np.load(inDir + '/data/x_val_%d.npy' % N_Cls), np.load(inDir + '/data/y_val_%d.npy' % N_Cls)\n",
    "img = np.load(inDir + '/data/x_trn_%d.npy' % N_Cls)\n",
    "msk = np.load(inDir + '/data/y_trn_%d.npy' % N_Cls)\n",
    "\n",
    "model = get_unet_M8_NDVI_NDWI()\n",
    "\n",
    "del x_trn\n",
    "del y_trn\n",
    "x_trn, y_trn = get_patches(img, msk, amt=600, aug=False)"
   ]
  },
  {
   "cell_type": "code",
   "execution_count": 50,
   "metadata": {
    "collapsed": true
   },
   "outputs": [],
   "source": [
    "for i in range(x_trn.shape[0]):\n",
    "    save_visual_img_patch(x_trn, \"trn\", sample_idx=i)\n",
    "    save_visual_msk_patch(y_trn, \"trn\", sample_idx=i)\n",
    "    \n",
    "for i in range(x_val.shape[0]):\n",
    "    save_visual_img_patch(x_val, \"val\", sample_idx=i)\n",
    "    save_visual_msk_patch(y_val, \"val\", sample_idx=i)"
   ]
  },
  {
   "cell_type": "markdown",
   "metadata": {},
   "source": [
    "Look much more similiar - let's train!"
   ]
  },
  {
   "cell_type": "code",
   "execution_count": 51,
   "metadata": {},
   "outputs": [
    {
     "name": "stdout",
     "output_type": "stream",
     "text": [
      "Train on 77 samples, validate on 85 samples\n",
      "Epoch 1/1\n",
      "77/77 [==============================] - 194s - loss: 0.6655 - jaccard_coef: 0.1406 - jaccard_coef_int: 0.0049 - acc: 0.8024 - val_loss: 0.5219 - val_jaccard_coef: 0.1266 - val_jaccard_coef_int: 1.7891e-18 - val_acc: 0.8385\n"
     ]
    },
    {
     "data": {
      "text/plain": [
       "<keras.callbacks.History at 0x7feacee08860>"
      ]
     },
     "execution_count": 51,
     "metadata": {},
     "output_type": "execute_result"
    }
   ],
   "source": [
    "model.fit(x_trn, y_trn, batch_size=64, epochs=1, verbose=1, shuffle=True,\n",
    "          validation_data=(x_val, y_val))"
   ]
  },
  {
   "cell_type": "code",
   "execution_count": 52,
   "metadata": {},
   "outputs": [
    {
     "name": "stdout",
     "output_type": "stream",
     "text": [
      "Train on 77 samples, validate on 85 samples\n",
      "Epoch 1/1\n",
      "77/77 [==============================] - 193s - loss: 0.5545 - jaccard_coef: 0.1135 - jaccard_coef_int: 2.6178e-18 - acc: 0.8318 - val_loss: 0.4466 - val_jaccard_coef: 0.1086 - val_jaccard_coef_int: 2.3611e-18 - val_acc: 0.8385\n"
     ]
    },
    {
     "data": {
      "text/plain": [
       "<keras.callbacks.History at 0x7feaced68898>"
      ]
     },
     "execution_count": 52,
     "metadata": {},
     "output_type": "execute_result"
    }
   ],
   "source": [
    "model.fit(x_trn, y_trn, batch_size=64, epochs=1, verbose=1, shuffle=True,\n",
    "          validation_data=(x_val, y_val))"
   ]
  },
  {
   "cell_type": "code",
   "execution_count": 53,
   "metadata": {},
   "outputs": [
    {
     "name": "stdout",
     "output_type": "stream",
     "text": [
      "Train on 77 samples, validate on 85 samples\n",
      "Epoch 1/15\n",
      "77/77 [==============================] - 193s - loss: 0.4832 - jaccard_coef: 0.1053 - jaccard_coef_int: 2.3846e-18 - acc: 0.8318 - val_loss: 0.4407 - val_jaccard_coef: 0.1051 - val_jaccard_coef_int: 2.4772e-18 - val_acc: 0.8385\n",
      "Epoch 2/15\n",
      "77/77 [==============================] - 193s - loss: 0.4647 - jaccard_coef: 0.1056 - jaccard_coef_int: 2.7101e-18 - acc: 0.8318 - val_loss: 0.4369 - val_jaccard_coef: 0.0910 - val_jaccard_coef_int: 2.8836e-18 - val_acc: 0.8385\n",
      "Epoch 3/15\n",
      "77/77 [==============================] - 193s - loss: 0.4445 - jaccard_coef: 0.0970 - jaccard_coef_int: 3.2754e-18 - acc: 0.8318 - val_loss: 0.4496 - val_jaccard_coef: 0.0773 - val_jaccard_coef_int: 3.2358e-18 - val_acc: 0.8385\n",
      "Epoch 4/15\n",
      "77/77 [==============================] - 193s - loss: 0.4335 - jaccard_coef: 0.0939 - jaccard_coef_int: 3.5657e-18 - acc: 0.8318 - val_loss: 0.4450 - val_jaccard_coef: 0.0835 - val_jaccard_coef_int: 3.0142e-18 - val_acc: 0.8385\n",
      "Epoch 5/15\n",
      "77/77 [==============================] - 193s - loss: 0.4094 - jaccard_coef: 0.1131 - jaccard_coef_int: 3.0746e-18 - acc: 0.8318 - val_loss: 0.4485 - val_jaccard_coef: 0.1007 - val_jaccard_coef_int: 2.4952e-18 - val_acc: 0.8385\n",
      "Epoch 6/15\n",
      "77/77 [==============================] - 193s - loss: 0.4015 - jaccard_coef: 0.1370 - jaccard_coef_int: 2.9699e-18 - acc: 0.8318 - val_loss: 0.4632 - val_jaccard_coef: 0.1049 - val_jaccard_coef_int: 2.3228e-18 - val_acc: 0.8385\n",
      "Epoch 7/15\n",
      "77/77 [==============================] - 193s - loss: 0.3951 - jaccard_coef: 0.1496 - jaccard_coef_int: 2.6578e-18 - acc: 0.8318 - val_loss: 0.4675 - val_jaccard_coef: 0.1004 - val_jaccard_coef_int: 2.3893e-18 - val_acc: 0.8385\n",
      "Epoch 8/15\n",
      "77/77 [==============================] - 193s - loss: 0.3783 - jaccard_coef: 0.1620 - jaccard_coef_int: 2.8097e-18 - acc: 0.8318 - val_loss: 0.4775 - val_jaccard_coef: 0.1030 - val_jaccard_coef_int: 2.3025e-18 - val_acc: 0.8385\n",
      "Epoch 9/15\n",
      "77/77 [==============================] - 193s - loss: 0.3716 - jaccard_coef: 0.1704 - jaccard_coef_int: 3.3373e-18 - acc: 0.8318 - val_loss: 0.4764 - val_jaccard_coef: 0.0981 - val_jaccard_coef_int: 2.4361e-18 - val_acc: 0.8385\n",
      "Epoch 10/15\n",
      "77/77 [==============================] - 193s - loss: 0.3624 - jaccard_coef: 0.1812 - jaccard_coef_int: 7.8407e-05 - acc: 0.8318 - val_loss: 0.4774 - val_jaccard_coef: 0.0855 - val_jaccard_coef_int: 1.9976e-05 - val_acc: 0.8385\n",
      "Epoch 11/15\n",
      "77/77 [==============================] - 193s - loss: 0.3644 - jaccard_coef: 0.1850 - jaccard_coef_int: 0.0065 - acc: 0.8332 - val_loss: 0.4789 - val_jaccard_coef: 0.0946 - val_jaccard_coef_int: 0.0043 - val_acc: 0.8391\n",
      "Epoch 12/15\n",
      "77/77 [==============================] - 193s - loss: 0.3527 - jaccard_coef: 0.2006 - jaccard_coef_int: 0.1516 - acc: 0.8619 - val_loss: 0.4927 - val_jaccard_coef: 0.1106 - val_jaccard_coef_int: 0.0098 - val_acc: 0.8092\n",
      "Epoch 13/15\n",
      "77/77 [==============================] - 193s - loss: 0.3399 - jaccard_coef: 0.2121 - jaccard_coef_int: 0.2482 - acc: 0.8694 - val_loss: 0.4733 - val_jaccard_coef: 0.1045 - val_jaccard_coef_int: 0.0085 - val_acc: 0.8276\n",
      "Epoch 14/15\n",
      "77/77 [==============================] - 193s - loss: 0.3288 - jaccard_coef: 0.2190 - jaccard_coef_int: 0.2349 - acc: 0.8709 - val_loss: 0.4523 - val_jaccard_coef: 0.1063 - val_jaccard_coef_int: 0.0074 - val_acc: 0.8358\n",
      "Epoch 15/15\n",
      "77/77 [==============================] - 193s - loss: 0.3145 - jaccard_coef: 0.2272 - jaccard_coef_int: 0.2040 - acc: 0.8696 - val_loss: 0.4471 - val_jaccard_coef: 0.1006 - val_jaccard_coef_int: 0.0072 - val_acc: 0.8391\n"
     ]
    },
    {
     "data": {
      "text/plain": [
       "<keras.callbacks.History at 0x7feaced33198>"
      ]
     },
     "execution_count": 53,
     "metadata": {},
     "output_type": "execute_result"
    }
   ],
   "source": [
    "model.fit(x_trn, y_trn, batch_size=64, epochs=15, verbose=1, shuffle=True,\n",
    "          validation_data=(x_val, y_val))"
   ]
  },
  {
   "cell_type": "code",
   "execution_count": 54,
   "metadata": {},
   "outputs": [
    {
     "name": "stdout",
     "output_type": "stream",
     "text": [
      "Train on 77 samples, validate on 85 samples\n",
      "Epoch 1/1\n",
      "77/77 [==============================] - 193s - loss: 0.2924 - jaccard_coef: 0.2424 - jaccard_coef_int: 0.1779 - acc: 0.8664 - val_loss: 0.4469 - val_jaccard_coef: 0.1212 - val_jaccard_coef_int: 0.0089 - val_acc: 0.7966\n"
     ]
    },
    {
     "data": {
      "text/plain": [
       "<keras.callbacks.History at 0x7feaced33240>"
      ]
     },
     "execution_count": 54,
     "metadata": {},
     "output_type": "execute_result"
    }
   ],
   "source": [
    "model.fit(x_trn, y_trn, batch_size=64, epochs=1, verbose=1, shuffle=True,\n",
    "          validation_data=(x_val, y_val))"
   ]
  },
  {
   "cell_type": "code",
   "execution_count": 55,
   "metadata": {},
   "outputs": [
    {
     "name": "stdout",
     "output_type": "stream",
     "text": [
      "Train on 77 samples, validate on 85 samples\n",
      "Epoch 1/1\n",
      "77/77 [==============================] - 193s - loss: 0.2743 - jaccard_coef: 0.2647 - jaccard_coef_int: 0.2050 - acc: 0.8707 - val_loss: 1.1316 - val_jaccard_coef: 0.1084 - val_jaccard_coef_int: 0.0317 - val_acc: 0.8191\n"
     ]
    },
    {
     "data": {
      "text/plain": [
       "<keras.callbacks.History at 0x7feaced33630>"
      ]
     },
     "execution_count": 55,
     "metadata": {},
     "output_type": "execute_result"
    }
   ],
   "source": [
    "model.fit(x_trn, y_trn, batch_size=64, epochs=1, verbose=1, shuffle=True,\n",
    "          validation_data=(x_val, y_val))"
   ]
  },
  {
   "cell_type": "code",
   "execution_count": 56,
   "metadata": {
    "collapsed": true
   },
   "outputs": [],
   "source": [
    "K.set_value(model.optimizer.lr, 0.0001)"
   ]
  },
  {
   "cell_type": "code",
   "execution_count": 88,
   "metadata": {},
   "outputs": [
    {
     "name": "stdout",
     "output_type": "stream",
     "text": [
      "Train on 77 samples, validate on 85 samples\n",
      "Epoch 1/1\n"
     ]
    },
    {
     "ename": "KeyboardInterrupt",
     "evalue": "",
     "output_type": "error",
     "traceback": [
      "\u001b[0;31m---------------------------------------------------------------------------\u001b[0m",
      "\u001b[0;31mKeyboardInterrupt\u001b[0m                         Traceback (most recent call last)",
      "\u001b[0;32m<ipython-input-88-f4a71940a57f>\u001b[0m in \u001b[0;36m<module>\u001b[0;34m()\u001b[0m\n\u001b[1;32m      1\u001b[0m model.fit(x_trn, y_trn, batch_size=64, epochs=1, verbose=1, shuffle=True,\n\u001b[0;32m----> 2\u001b[0;31m           validation_data=(x_val, y_val))\n\u001b[0m",
      "\u001b[0;32m/usr/local/lib/python3.4/dist-packages/keras/engine/training.py\u001b[0m in \u001b[0;36mfit\u001b[0;34m(self, x, y, batch_size, epochs, verbose, callbacks, validation_split, validation_data, shuffle, class_weight, sample_weight, initial_epoch, **kwargs)\u001b[0m\n\u001b[1;32m   1505\u001b[0m                               \u001b[0mval_f\u001b[0m\u001b[0;34m=\u001b[0m\u001b[0mval_f\u001b[0m\u001b[0;34m,\u001b[0m \u001b[0mval_ins\u001b[0m\u001b[0;34m=\u001b[0m\u001b[0mval_ins\u001b[0m\u001b[0;34m,\u001b[0m \u001b[0mshuffle\u001b[0m\u001b[0;34m=\u001b[0m\u001b[0mshuffle\u001b[0m\u001b[0;34m,\u001b[0m\u001b[0;34m\u001b[0m\u001b[0m\n\u001b[1;32m   1506\u001b[0m                               \u001b[0mcallback_metrics\u001b[0m\u001b[0;34m=\u001b[0m\u001b[0mcallback_metrics\u001b[0m\u001b[0;34m,\u001b[0m\u001b[0;34m\u001b[0m\u001b[0m\n\u001b[0;32m-> 1507\u001b[0;31m                               initial_epoch=initial_epoch)\n\u001b[0m\u001b[1;32m   1508\u001b[0m \u001b[0;34m\u001b[0m\u001b[0m\n\u001b[1;32m   1509\u001b[0m     \u001b[0;32mdef\u001b[0m \u001b[0mevaluate\u001b[0m\u001b[0;34m(\u001b[0m\u001b[0mself\u001b[0m\u001b[0;34m,\u001b[0m \u001b[0mx\u001b[0m\u001b[0;34m,\u001b[0m \u001b[0my\u001b[0m\u001b[0;34m,\u001b[0m \u001b[0mbatch_size\u001b[0m\u001b[0;34m=\u001b[0m\u001b[0;36m32\u001b[0m\u001b[0;34m,\u001b[0m \u001b[0mverbose\u001b[0m\u001b[0;34m=\u001b[0m\u001b[0;36m1\u001b[0m\u001b[0;34m,\u001b[0m \u001b[0msample_weight\u001b[0m\u001b[0;34m=\u001b[0m\u001b[0;32mNone\u001b[0m\u001b[0;34m)\u001b[0m\u001b[0;34m:\u001b[0m\u001b[0;34m\u001b[0m\u001b[0m\n",
      "\u001b[0;32m/usr/local/lib/python3.4/dist-packages/keras/engine/training.py\u001b[0m in \u001b[0;36m_fit_loop\u001b[0;34m(self, f, ins, out_labels, batch_size, epochs, verbose, callbacks, val_f, val_ins, shuffle, callback_metrics, initial_epoch)\u001b[0m\n\u001b[1;32m   1154\u001b[0m                 \u001b[0mbatch_logs\u001b[0m\u001b[0;34m[\u001b[0m\u001b[0;34m'size'\u001b[0m\u001b[0;34m]\u001b[0m \u001b[0;34m=\u001b[0m \u001b[0mlen\u001b[0m\u001b[0;34m(\u001b[0m\u001b[0mbatch_ids\u001b[0m\u001b[0;34m)\u001b[0m\u001b[0;34m\u001b[0m\u001b[0m\n\u001b[1;32m   1155\u001b[0m                 \u001b[0mcallbacks\u001b[0m\u001b[0;34m.\u001b[0m\u001b[0mon_batch_begin\u001b[0m\u001b[0;34m(\u001b[0m\u001b[0mbatch_index\u001b[0m\u001b[0;34m,\u001b[0m \u001b[0mbatch_logs\u001b[0m\u001b[0;34m)\u001b[0m\u001b[0;34m\u001b[0m\u001b[0m\n\u001b[0;32m-> 1156\u001b[0;31m                 \u001b[0mouts\u001b[0m \u001b[0;34m=\u001b[0m \u001b[0mf\u001b[0m\u001b[0;34m(\u001b[0m\u001b[0mins_batch\u001b[0m\u001b[0;34m)\u001b[0m\u001b[0;34m\u001b[0m\u001b[0m\n\u001b[0m\u001b[1;32m   1157\u001b[0m                 \u001b[0;32mif\u001b[0m \u001b[0;32mnot\u001b[0m \u001b[0misinstance\u001b[0m\u001b[0;34m(\u001b[0m\u001b[0mouts\u001b[0m\u001b[0;34m,\u001b[0m \u001b[0mlist\u001b[0m\u001b[0;34m)\u001b[0m\u001b[0;34m:\u001b[0m\u001b[0;34m\u001b[0m\u001b[0m\n\u001b[1;32m   1158\u001b[0m                     \u001b[0mouts\u001b[0m \u001b[0;34m=\u001b[0m \u001b[0;34m[\u001b[0m\u001b[0mouts\u001b[0m\u001b[0;34m]\u001b[0m\u001b[0;34m\u001b[0m\u001b[0m\n",
      "\u001b[0;32m/usr/local/lib/python3.4/dist-packages/keras/backend/tensorflow_backend.py\u001b[0m in \u001b[0;36m__call__\u001b[0;34m(self, inputs)\u001b[0m\n\u001b[1;32m   2267\u001b[0m         updated = session.run(self.outputs + [self.updates_op],\n\u001b[1;32m   2268\u001b[0m                               \u001b[0mfeed_dict\u001b[0m\u001b[0;34m=\u001b[0m\u001b[0mfeed_dict\u001b[0m\u001b[0;34m,\u001b[0m\u001b[0;34m\u001b[0m\u001b[0m\n\u001b[0;32m-> 2269\u001b[0;31m                               **self.session_kwargs)\n\u001b[0m\u001b[1;32m   2270\u001b[0m         \u001b[0;32mreturn\u001b[0m \u001b[0mupdated\u001b[0m\u001b[0;34m[\u001b[0m\u001b[0;34m:\u001b[0m\u001b[0mlen\u001b[0m\u001b[0;34m(\u001b[0m\u001b[0mself\u001b[0m\u001b[0;34m.\u001b[0m\u001b[0moutputs\u001b[0m\u001b[0;34m)\u001b[0m\u001b[0;34m]\u001b[0m\u001b[0;34m\u001b[0m\u001b[0m\n\u001b[1;32m   2271\u001b[0m \u001b[0;34m\u001b[0m\u001b[0m\n",
      "\u001b[0;32m/usr/local/lib/python3.4/dist-packages/tensorflow/python/client/session.py\u001b[0m in \u001b[0;36mrun\u001b[0;34m(self, fetches, feed_dict, options, run_metadata)\u001b[0m\n\u001b[1;32m    787\u001b[0m     \u001b[0;32mtry\u001b[0m\u001b[0;34m:\u001b[0m\u001b[0;34m\u001b[0m\u001b[0m\n\u001b[1;32m    788\u001b[0m       result = self._run(None, fetches, feed_dict, options_ptr,\n\u001b[0;32m--> 789\u001b[0;31m                          run_metadata_ptr)\n\u001b[0m\u001b[1;32m    790\u001b[0m       \u001b[0;32mif\u001b[0m \u001b[0mrun_metadata\u001b[0m\u001b[0;34m:\u001b[0m\u001b[0;34m\u001b[0m\u001b[0m\n\u001b[1;32m    791\u001b[0m         \u001b[0mproto_data\u001b[0m \u001b[0;34m=\u001b[0m \u001b[0mtf_session\u001b[0m\u001b[0;34m.\u001b[0m\u001b[0mTF_GetBuffer\u001b[0m\u001b[0;34m(\u001b[0m\u001b[0mrun_metadata_ptr\u001b[0m\u001b[0;34m)\u001b[0m\u001b[0;34m\u001b[0m\u001b[0m\n",
      "\u001b[0;32m/usr/local/lib/python3.4/dist-packages/tensorflow/python/client/session.py\u001b[0m in \u001b[0;36m_run\u001b[0;34m(self, handle, fetches, feed_dict, options, run_metadata)\u001b[0m\n\u001b[1;32m    995\u001b[0m     \u001b[0;32mif\u001b[0m \u001b[0mfinal_fetches\u001b[0m \u001b[0;32mor\u001b[0m \u001b[0mfinal_targets\u001b[0m\u001b[0;34m:\u001b[0m\u001b[0;34m\u001b[0m\u001b[0m\n\u001b[1;32m    996\u001b[0m       results = self._do_run(handle, final_targets, final_fetches,\n\u001b[0;32m--> 997\u001b[0;31m                              feed_dict_string, options, run_metadata)\n\u001b[0m\u001b[1;32m    998\u001b[0m     \u001b[0;32melse\u001b[0m\u001b[0;34m:\u001b[0m\u001b[0;34m\u001b[0m\u001b[0m\n\u001b[1;32m    999\u001b[0m       \u001b[0mresults\u001b[0m \u001b[0;34m=\u001b[0m \u001b[0;34m[\u001b[0m\u001b[0;34m]\u001b[0m\u001b[0;34m\u001b[0m\u001b[0m\n",
      "\u001b[0;32m/usr/local/lib/python3.4/dist-packages/tensorflow/python/client/session.py\u001b[0m in \u001b[0;36m_do_run\u001b[0;34m(self, handle, target_list, fetch_list, feed_dict, options, run_metadata)\u001b[0m\n\u001b[1;32m   1130\u001b[0m     \u001b[0;32mif\u001b[0m \u001b[0mhandle\u001b[0m \u001b[0;32mis\u001b[0m \u001b[0;32mNone\u001b[0m\u001b[0;34m:\u001b[0m\u001b[0;34m\u001b[0m\u001b[0m\n\u001b[1;32m   1131\u001b[0m       return self._do_call(_run_fn, self._session, feed_dict, fetch_list,\n\u001b[0;32m-> 1132\u001b[0;31m                            target_list, options, run_metadata)\n\u001b[0m\u001b[1;32m   1133\u001b[0m     \u001b[0;32melse\u001b[0m\u001b[0;34m:\u001b[0m\u001b[0;34m\u001b[0m\u001b[0m\n\u001b[1;32m   1134\u001b[0m       return self._do_call(_prun_fn, self._session, handle, feed_dict,\n",
      "\u001b[0;32m/usr/local/lib/python3.4/dist-packages/tensorflow/python/client/session.py\u001b[0m in \u001b[0;36m_do_call\u001b[0;34m(self, fn, *args)\u001b[0m\n\u001b[1;32m   1137\u001b[0m   \u001b[0;32mdef\u001b[0m \u001b[0m_do_call\u001b[0m\u001b[0;34m(\u001b[0m\u001b[0mself\u001b[0m\u001b[0;34m,\u001b[0m \u001b[0mfn\u001b[0m\u001b[0;34m,\u001b[0m \u001b[0;34m*\u001b[0m\u001b[0margs\u001b[0m\u001b[0;34m)\u001b[0m\u001b[0;34m:\u001b[0m\u001b[0;34m\u001b[0m\u001b[0m\n\u001b[1;32m   1138\u001b[0m     \u001b[0;32mtry\u001b[0m\u001b[0;34m:\u001b[0m\u001b[0;34m\u001b[0m\u001b[0m\n\u001b[0;32m-> 1139\u001b[0;31m       \u001b[0;32mreturn\u001b[0m \u001b[0mfn\u001b[0m\u001b[0;34m(\u001b[0m\u001b[0;34m*\u001b[0m\u001b[0margs\u001b[0m\u001b[0;34m)\u001b[0m\u001b[0;34m\u001b[0m\u001b[0m\n\u001b[0m\u001b[1;32m   1140\u001b[0m     \u001b[0;32mexcept\u001b[0m \u001b[0merrors\u001b[0m\u001b[0;34m.\u001b[0m\u001b[0mOpError\u001b[0m \u001b[0;32mas\u001b[0m \u001b[0me\u001b[0m\u001b[0;34m:\u001b[0m\u001b[0;34m\u001b[0m\u001b[0m\n\u001b[1;32m   1141\u001b[0m       \u001b[0mmessage\u001b[0m \u001b[0;34m=\u001b[0m \u001b[0mcompat\u001b[0m\u001b[0;34m.\u001b[0m\u001b[0mas_text\u001b[0m\u001b[0;34m(\u001b[0m\u001b[0me\u001b[0m\u001b[0;34m.\u001b[0m\u001b[0mmessage\u001b[0m\u001b[0;34m)\u001b[0m\u001b[0;34m\u001b[0m\u001b[0m\n",
      "\u001b[0;32m/usr/local/lib/python3.4/dist-packages/tensorflow/python/client/session.py\u001b[0m in \u001b[0;36m_run_fn\u001b[0;34m(session, feed_dict, fetch_list, target_list, options, run_metadata)\u001b[0m\n\u001b[1;32m   1119\u001b[0m         return tf_session.TF_Run(session, options,\n\u001b[1;32m   1120\u001b[0m                                  \u001b[0mfeed_dict\u001b[0m\u001b[0;34m,\u001b[0m \u001b[0mfetch_list\u001b[0m\u001b[0;34m,\u001b[0m \u001b[0mtarget_list\u001b[0m\u001b[0;34m,\u001b[0m\u001b[0;34m\u001b[0m\u001b[0m\n\u001b[0;32m-> 1121\u001b[0;31m                                  status, run_metadata)\n\u001b[0m\u001b[1;32m   1122\u001b[0m \u001b[0;34m\u001b[0m\u001b[0m\n\u001b[1;32m   1123\u001b[0m     \u001b[0;32mdef\u001b[0m \u001b[0m_prun_fn\u001b[0m\u001b[0;34m(\u001b[0m\u001b[0msession\u001b[0m\u001b[0;34m,\u001b[0m \u001b[0mhandle\u001b[0m\u001b[0;34m,\u001b[0m \u001b[0mfeed_dict\u001b[0m\u001b[0;34m,\u001b[0m \u001b[0mfetch_list\u001b[0m\u001b[0;34m)\u001b[0m\u001b[0;34m:\u001b[0m\u001b[0;34m\u001b[0m\u001b[0m\n",
      "\u001b[0;31mKeyboardInterrupt\u001b[0m: "
     ]
    }
   ],
   "source": [
    "model.fit(x_trn, y_trn, batch_size=64, epochs=1, verbose=1, shuffle=True,\n",
    "          validation_data=(x_val, y_val))"
   ]
  },
  {
   "cell_type": "markdown",
   "metadata": {},
   "source": [
    "It's interesting that the loss sometime increases (i.e. bad) when the jaccard metrics increases (i.e. good).\n",
    "\n",
    "Does minismising 1-jaccard work as a loss?"
   ]
  },
  {
   "cell_type": "markdown",
   "metadata": {},
   "source": [
    "Can we visulise the predictions:"
   ]
  },
  {
   "cell_type": "code",
   "execution_count": 85,
   "metadata": {},
   "outputs": [
    {
     "name": "stderr",
     "output_type": "stream",
     "text": [
      "/usr/local/lib/python3.4/dist-packages/ipykernel_launcher.py:36: RuntimeWarning: divide by zero encountered in true_divide\n"
     ]
    },
    {
     "name": "stdout",
     "output_type": "stream",
     "text": [
      "(960, 960, 10)\n"
     ]
    },
    {
     "data": {
      "image/png": "[encoded data removed]",
      "text/plain": [
       "<matplotlib.figure.Figure at 0x7fe3ae05f400>"
      ]
     },
     "metadata": {},
     "output_type": "display_data"
    },
    {
     "data": {
      "image/png": "[encoded data removed]",
      "text/plain": [
       "<matplotlib.figure.Figure at 0x7fe3ae2250b8>"
      ]
     },
     "metadata": {},
     "output_type": "display_data"
    },
    {
     "data": {
      "image/png": "[encoded data removed]",
      "text/plain": [
       "<matplotlib.figure.Figure at 0x7fe3ae120c88>"
      ]
     },
     "metadata": {},
     "output_type": "display_data"
    },
    {
     "name": "stdout",
     "output_type": "stream",
     "text": [
      "(960, 960, 10)\n"
     ]
    },
    {
     "data": {
      "image/png": "[encoded data removed]",
      "text/plain": [
       "<matplotlib.figure.Figure at 0x7fe3adffc828>"
      ]
     },
     "metadata": {},
     "output_type": "display_data"
    },
    {
     "name": "stdout",
     "output_type": "stream",
     "text": [
      "(960, 960, 10)\n"
     ]
    },
    {
     "data": {
      "image/png": "[encoded data removed]",
      "text/plain": [
       "<matplotlib.figure.Figure at 0x7fe3ade05588>"
      ]
     },
     "metadata": {},
     "output_type": "display_data"
    },
    {
     "name": "stdout",
     "output_type": "stream",
     "text": [
      "(960, 960, 10)\n"
     ]
    },
    {
     "data": {
      "image/png": "[encoded data removed]",
      "text/plain": [
       "<matplotlib.figure.Figure at 0x7fe3adc86208>"
      ]
     },
     "metadata": {},
     "output_type": "display_data"
    }
   ],
   "source": [
    "def predict_id(id, model, trs):\n",
    "    # Read and preprocess\n",
    "    img = M(id)\n",
    "    \n",
    "    x = stretch_n(img)\n",
    "\n",
    "    ndvi, savi, evi, ndwi = create_indexes(id)\n",
    "    x = np.concatenate((x, ndvi.reshape(ndvi.shape[0], ndvi.shape[1], 1)), -1)\n",
    "    x = np.concatenate((x, ndwi.reshape(ndwi.shape[0], ndwi.shape[1], 1)), -1)\n",
    "    \n",
    "    cnv = np.zeros((960, 960, 10)).astype(np.float32)\n",
    "    prd = np.zeros((N_Cls, 960, 960)).astype(np.float32)\n",
    "    cnv[:img.shape[0], :img.shape[1], :] = x\n",
    "    print(cnv.shape)\n",
    "\n",
    "    # NOTE 960/160 = 6\n",
    "    # for each col of a full image\n",
    "    for i in range(0, 6):\n",
    "        line = []\n",
    "        # predict each row of a full image at a time\n",
    "        for j in range(0, 6):\n",
    "            line.append(cnv[i * ISZ:(i + 1) * ISZ, j * ISZ:(j + 1) * ISZ])\n",
    "\n",
    "        x = 2 * np.transpose(line, (0, 3, 1, 2)) - 1 # Same sort of standardisation/normalisation as before (and th/tf ordering fix)\n",
    "        tmp = model.predict(x, batch_size=4)\n",
    "        for j in range(tmp.shape[0]):\n",
    "            prd[:, i * ISZ:(i + 1) * ISZ, j * ISZ:(j + 1) * ISZ] = tmp[j]\n",
    "\n",
    "    # trs = [0.4, 0.1, 0.4, 0.3, 0.3, 0.5, 0.3, 0.6, 0.1, 0.1]\n",
    "    for i in range(N_Cls):\n",
    "        prd[i] = prd[i] > trs[i]  # threshold \n",
    "\n",
    "    return prd[:, :img.shape[0], :img.shape[1]] # prediction for one image (and one class in my case)\n",
    "\n",
    "\n",
    "#VAL data comparison\n",
    "for i in range(1,5):\n",
    "    trs = [0.5]\n",
    "    check_predict(val_img_names[i], train_model=model_base)"
   ]
  },
  {
   "cell_type": "markdown",
   "metadata": {},
   "source": [
    "\"Probably due to a bug in the prediction/plotting code (tweaked to try make work with additional bands)\""
   ]
  },
  {
   "cell_type": "markdown",
   "metadata": {},
   "source": [
    "### Does loss = 1-jaccard work?"
   ]
  },
  {
   "cell_type": "code",
   "execution_count": 80,
   "metadata": {
    "collapsed": true
   },
   "outputs": [],
   "source": [
    "def jaccard_coef_loss(y_true, y_pred):\n",
    "    return 1 - jaccard_coef(y_true, y_pred)\n",
    "    \n",
    "\n",
    "def get_unet_M8_NDVI_NDWI_jaccard_loss():\n",
    "    inputs = Input((8+2, ISZ, ISZ))\n",
    "    conv1 = Conv2D(32, (3, 3), activation='relu', padding='same')(inputs)\n",
    "    conv1 = Conv2D(32, (3, 3), activation='relu', padding='same')(conv1)\n",
    "    pool1 = MaxPooling2D(pool_size=(2, 2))(conv1)\n",
    "\n",
    "    conv2 = Conv2D(64, (3, 3), activation='relu', padding='same')(pool1)\n",
    "    conv2 = Conv2D(64, (3, 3), activation='relu', padding='same')(conv2)\n",
    "    pool2 = MaxPooling2D(pool_size=(2, 2))(conv2)\n",
    "\n",
    "    conv3 = Conv2D(128, (3, 3), activation='relu', padding='same')(pool2)\n",
    "    conv3 = Conv2D(128, (3, 3), activation='relu', padding='same')(conv3)\n",
    "    pool3 = MaxPooling2D(pool_size=(2, 2))(conv3)\n",
    "\n",
    "    conv4 = Conv2D(256, (3, 3), activation='relu', padding='same')(pool3)\n",
    "    conv4 = Conv2D(256, (3, 3), activation='relu', padding='same')(conv4)\n",
    "    pool4 = MaxPooling2D(pool_size=(2, 2))(conv4)\n",
    "\n",
    "    conv5 = Conv2D(512, (3, 3), activation='relu', padding='same')(pool4)\n",
    "    conv5 = Conv2D(512, (3, 3), activation='relu', padding='same')(conv5)\n",
    "\n",
    "    up6 = concatenate([Conv2DTranspose(256, (2, 2), strides=(2, 2), padding='same')(conv5), conv4], axis=1)\n",
    "    conv6 = Conv2D(256, (3, 3), activation='relu', padding='same')(up6)\n",
    "    conv6 = Conv2D(256, (3, 3), activation='relu', padding='same')(conv6)\n",
    "\n",
    "    up7 = concatenate([Conv2DTranspose(128, (2, 2), strides=(2, 2), padding='same')(conv6), conv3], axis=1)\n",
    "    conv7 = Conv2D(128, (3, 3), activation='relu', padding='same')(up7)\n",
    "    conv7 = Conv2D(128, (3, 3), activation='relu', padding='same')(conv7)\n",
    "\n",
    "    up8 = concatenate([Conv2DTranspose(64, (2, 2), strides=(2, 2), padding='same')(conv7), conv2], axis=1)\n",
    "    conv8 = Conv2D(64, (3, 3), activation='relu', padding='same')(up8)\n",
    "    conv8 = Conv2D(64, (3, 3), activation='relu', padding='same')(conv8)\n",
    "\n",
    "    up9 = concatenate([Conv2DTranspose(32, (2, 2), strides=(2, 2), padding='same')(conv8), conv1], axis=1)\n",
    "    conv9 = Conv2D(32, (3, 3), activation='relu', padding='same')(up9)\n",
    "    conv9 = Conv2D(32, (3, 3), activation='relu', padding='same')(conv9)\n",
    "\n",
    "    conv10 = Conv2D(N_Cls, (1, 1), activation='sigmoid')(conv9)\n",
    "\n",
    "    model = Model(inputs=[inputs], outputs=[conv10])\n",
    "    model.compile(optimizer=Adam(lr=0.01), loss=jaccard_coef_loss, \n",
    "                  metrics=[jaccard_coef, jaccard_coef_int, 'accuracy'])\n",
    "    return model"
   ]
  },
  {
   "cell_type": "code",
   "execution_count": 81,
   "metadata": {
    "collapsed": true
   },
   "outputs": [],
   "source": [
    "model = get_unet_M8_NDVI_NDWI_jaccard_loss()"
   ]
  },
  {
   "cell_type": "code",
   "execution_count": 82,
   "metadata": {},
   "outputs": [
    {
     "name": "stdout",
     "output_type": "stream",
     "text": [
      "Train on 77 samples, validate on 85 samples\n",
      "Epoch 1/1\n",
      "77/77 [==============================] - 194s - loss: 0.8491 - jaccard_coef: 0.1509 - jaccard_coef_int: 0.2870 - acc: 0.4509 - val_loss: 0.8385 - val_jaccard_coef: 0.1615 - val_jaccard_coef_int: 0.1615 - val_acc: 0.6418\n"
     ]
    },
    {
     "data": {
      "text/plain": [
       "<keras.callbacks.History at 0x7feacb162358>"
      ]
     },
     "execution_count": 82,
     "metadata": {},
     "output_type": "execute_result"
    }
   ],
   "source": [
    "K.set_value(model.optimizer.lr, 0.01)\n",
    "model.fit(x_trn, y_trn, batch_size=64, epochs=1, verbose=1, shuffle=True,\n",
    "          validation_data=(x_val, y_val))"
   ]
  },
  {
   "cell_type": "code",
   "execution_count": 83,
   "metadata": {},
   "outputs": [
    {
     "name": "stdout",
     "output_type": "stream",
     "text": [
      "Train on 77 samples, validate on 85 samples\n",
      "Epoch 1/1\n",
      "77/77 [==============================] - 193s - loss: 0.8318 - jaccard_coef: 0.1682 - jaccard_coef_int: 0.1682 - acc: 0.6401 - val_loss: 0.8385 - val_jaccard_coef: 0.1615 - val_jaccard_coef_int: 0.1615 - val_acc: 0.6418\n"
     ]
    },
    {
     "data": {
      "text/plain": [
       "<keras.callbacks.History at 0x7feacb102940>"
      ]
     },
     "execution_count": 83,
     "metadata": {},
     "output_type": "execute_result"
    }
   ],
   "source": [
    "model.fit(x_trn, y_trn, batch_size=64, epochs=1, verbose=1, shuffle=True,\n",
    "          validation_data=(x_val, y_val))"
   ]
  },
  {
   "cell_type": "code",
   "execution_count": 84,
   "metadata": {},
   "outputs": [
    {
     "name": "stdout",
     "output_type": "stream",
     "text": [
      "Train on 77 samples, validate on 85 samples\n",
      "Epoch 1/5\n",
      "77/77 [==============================] - 193s - loss: 0.8318 - jaccard_coef: 0.1682 - jaccard_coef_int: 0.1682 - acc: 0.6401 - val_loss: 0.8385 - val_jaccard_coef: 0.1615 - val_jaccard_coef_int: 0.1615 - val_acc: 0.6418\n",
      "Epoch 2/5\n",
      "77/77 [==============================] - 193s - loss: 0.8318 - jaccard_coef: 0.1682 - jaccard_coef_int: 0.1682 - acc: 0.6401 - val_loss: 0.8385 - val_jaccard_coef: 0.1615 - val_jaccard_coef_int: 0.1615 - val_acc: 0.6418\n",
      "Epoch 3/5\n",
      "77/77 [==============================] - 193s - loss: 0.8318 - jaccard_coef: 0.1682 - jaccard_coef_int: 0.1682 - acc: 0.6401 - val_loss: 0.8385 - val_jaccard_coef: 0.1615 - val_jaccard_coef_int: 0.1615 - val_acc: 0.6418\n",
      "Epoch 4/5\n",
      "77/77 [==============================] - 193s - loss: 0.8318 - jaccard_coef: 0.1682 - jaccard_coef_int: 0.1682 - acc: 0.6401 - val_loss: 0.8385 - val_jaccard_coef: 0.1615 - val_jaccard_coef_int: 0.1615 - val_acc: 0.6418\n",
      "Epoch 5/5\n",
      "77/77 [==============================] - 193s - loss: 0.8318 - jaccard_coef: 0.1682 - jaccard_coef_int: 0.1682 - acc: 0.6401 - val_loss: 0.8385 - val_jaccard_coef: 0.1615 - val_jaccard_coef_int: 0.1615 - val_acc: 0.6418\n"
     ]
    },
    {
     "data": {
      "text/plain": [
       "<keras.callbacks.History at 0x7feacb102b38>"
      ]
     },
     "execution_count": 84,
     "metadata": {},
     "output_type": "execute_result"
    }
   ],
   "source": [
    "model.fit(x_trn, y_trn, batch_size=64, epochs=5, verbose=1, shuffle=True,\n",
    "          validation_data=(x_val, y_val))"
   ]
  },
  {
   "cell_type": "markdown",
   "metadata": {},
   "source": [
    "Indeed, no learning has occurred due to the lack of differentiabilty of the loss function (I believe the first epoch is different to the rest as after the first epoch, the gradient may have been computed as 0, so the resulting updates are all based on this)."
   ]
  },
  {
   "cell_type": "markdown",
   "metadata": {},
   "source": [
    "### Add batch norm to try reduce overfitting"
   ]
  },
  {
   "cell_type": "markdown",
   "metadata": {},
   "source": [
    "Comparing to https://github.com/asmith26/courses/blob/master/deeplearning1/nbs/mnist.ipynb BatchNorm layer add before most \"major\" layers. https://github.com/asmith26/courses/blob/master/deeplearning1/nbs/statefarm-sample.ipynb is similar, as is https://deepsense.io/wp-content/uploads/2017/04/architecture_details.png. (Makes sense as is normalising the inputs).\n",
    "\n",
    "(Interestingly the winner used batch norm before most layers on the encoder part, whilst the decode part uses dropout before.)"
   ]
  },
  {
   "cell_type": "markdown",
   "metadata": {},
   "source": [
    "NOTE: I've omitted batchnorm from the input as the baseline code performs some standardisation/normalisation"
   ]
  },
  {
   "cell_type": "code",
   "execution_count": 9,
   "metadata": {
    "collapsed": true
   },
   "outputs": [],
   "source": [
    "def get_unet_M8_NDVI_NDWI_batchnorm():\n",
    "    inputs = Input((8+2, ISZ, ISZ))\n",
    "\n",
    "    model.compile(optimizer=Adam(lr=0.01), loss='binary_crossentropy', \n",
    "                  metrics=[jaccard_coef, jaccard_coef_int, 'accuracy'])\n",
    "    return model"
   ]
  },
  {
   "cell_type": "code",
   "execution_count": 10,
   "metadata": {},
   "outputs": [
    {
     "name": "stdout",
     "output_type": "stream",
     "text": [
      "Add blank, idx=7, count=1\n",
      "Add blank, idx=18, count=2\n",
      "Add blank, idx=23, count=3\n",
      "Add blank, idx=24, count=4\n",
      "Add blank, idx=69, count=5\n",
      "Add blank, idx=75, count=6\n",
      "Add blank, idx=81, count=7\n",
      "Add blank, idx=84, count=8\n",
      "Add blank, idx=114, count=9\n",
      "Add blank, idx=125, count=10\n",
      "Add blank, idx=128, count=11\n",
      "Add blank, idx=131, count=12\n",
      "Add blank, idx=143, count=13\n",
      "Add blank, idx=155, count=14\n",
      "Add blank, idx=170, count=15\n",
      "Add blank, idx=194, count=16\n",
      "Add blank, idx=237, count=17\n",
      "Add blank, idx=297, count=18\n",
      "Add blank, idx=316, count=19\n",
      "Add blank, idx=319, count=20\n",
      "Add blank, idx=328, count=21\n",
      "Add blank, idx=334, count=22\n",
      "Add blank, idx=361, count=23\n",
      "Add blank, idx=394, count=24\n",
      "Add blank, idx=397, count=25\n",
      "Add blank, idx=403, count=26\n",
      "Add blank, idx=413, count=27\n",
      "Add blank, idx=416, count=28\n",
      "Add blank, idx=448, count=29\n",
      "Add blank, idx=449, count=30\n",
      "Add blank, idx=452, count=31\n",
      "Add blank, idx=457, count=32\n",
      "Add blank, idx=462, count=33\n",
      "Add blank, idx=477, count=34\n",
      "Add blank, idx=481, count=35\n",
      "Add blank, idx=482, count=36\n",
      "Add blank, idx=496, count=37\n",
      "Add blank, idx=500, count=38\n",
      "Add blank, idx=508, count=39\n",
      "Add blank, idx=509, count=40\n",
      "Add blank, idx=518, count=41\n",
      "Add blank, idx=558, count=42\n",
      "Add blank, idx=559, count=43\n",
      "Add blank, idx=561, count=44\n",
      "Add blank, idx=566, count=45\n",
      "Add blank, idx=570, count=46\n",
      "Add blank, idx=573, count=47\n",
      "Add blank, idx=574, count=48\n",
      "Add blank, idx=577, count=49\n",
      "Add blank, idx=585, count=50\n",
      "Add blank, idx=592, count=51\n",
      "(94, 10, 160, 160) (94, 1, 160, 160) 1.0 -2.24008345604 1.0 0.0\n"
     ]
    }
   ],
   "source": [
    "x_val, y_val = np.load(inDir + '/data/x_val_%d.npy' % N_Cls), np.load(inDir + '/data/y_val_%d.npy' % N_Cls)\n",
    "img = np.load(inDir + '/data/x_trn_%d.npy' % N_Cls)\n",
    "msk = np.load(inDir + '/data/y_trn_%d.npy' % N_Cls)\n",
    "\n",
    "# del x_trn\n",
    "# del y_trn\n",
    "x_trn, y_trn = get_patches(img, msk, amt=600, aug=False)\n",
    "\n",
    "model = get_unet_M8_NDVI_NDWI_batchnorm()"
   ]
  },
  {
   "cell_type": "code",
   "execution_count": 11,
   "metadata": {},
   "outputs": [
    {
     "name": "stdout",
     "output_type": "stream",
     "text": [
      "Train on 94 samples, validate on 85 samples\n",
      "Epoch 1/1\n",
      "94/94 [==============================] - 349s - loss: 0.6121 - jaccard_coef: 0.1731 - jaccard_coef_int: 0.1628 - acc: 0.6731 - val_loss: 2.7487 - val_jaccard_coef: 0.0156 - val_jaccard_coef_int: 0.0155 - val_acc: 0.8262\n"
     ]
    },
    {
     "data": {
      "text/plain": [
       "<keras.callbacks.History at 0x7fe3b5bbccf8>"
      ]
     },
     "execution_count": 11,
     "metadata": {},
     "output_type": "execute_result"
    }
   ],
   "source": [
    "K.set_value(model.optimizer.lr, 0.01)\n",
    "model.fit(x_trn, y_trn, batch_size=64, epochs=1, verbose=1, shuffle=True,\n",
    "          validation_data=(x_val, y_val))"
   ]
  },
  {
   "cell_type": "code",
   "execution_count": 12,
   "metadata": {},
   "outputs": [
    {
     "name": "stdout",
     "output_type": "stream",
     "text": [
      "Train on 94 samples, validate on 85 samples\n",
      "Epoch 1/15\n",
      "94/94 [==============================] - 346s - loss: 0.4952 - jaccard_coef: 0.1821 - jaccard_coef_int: 0.1422 - acc: 0.8223 - val_loss: 2.6030 - val_jaccard_coef: 2.4864e-05 - val_jaccard_coef_int: 2.4859e-05 - val_acc: 0.8385\n",
      "Epoch 2/15\n",
      "94/94 [==============================] - 346s - loss: 0.3581 - jaccard_coef: 0.2612 - jaccard_coef_int: 0.2374 - acc: 0.8452 - val_loss: 2.6690 - val_jaccard_coef: 0.0064 - val_jaccard_coef_int: 0.0064 - val_acc: 0.8343\n",
      "Epoch 3/15\n",
      "94/94 [==============================] - 345s - loss: 0.2819 - jaccard_coef: 0.3505 - jaccard_coef_int: 0.3475 - acc: 0.8686 - val_loss: 2.6341 - val_jaccard_coef: 0.0035 - val_jaccard_coef_int: 0.0035 - val_acc: 0.8366\n",
      "Epoch 4/15\n",
      "94/94 [==============================] - 346s - loss: 0.2807 - jaccard_coef: 0.3352 - jaccard_coef_int: 0.2899 - acc: 0.8663 - val_loss: 10.7132 - val_jaccard_coef: 0.1536 - val_jaccard_coef_int: 0.1536 - val_acc: 0.3284\n",
      "Epoch 5/15\n",
      "94/94 [==============================] - 346s - loss: 0.2620 - jaccard_coef: 0.4101 - jaccard_coef_int: 0.5413 - acc: 0.8706 - val_loss: 8.6401 - val_jaccard_coef: 0.1437 - val_jaccard_coef_int: 0.1437 - val_acc: 0.4587\n",
      "Epoch 6/15\n",
      "94/94 [==============================] - 346s - loss: 0.2567 - jaccard_coef: 0.3800 - jaccard_coef_int: 0.4552 - acc: 0.8857 - val_loss: 7.9122 - val_jaccard_coef: 0.1390 - val_jaccard_coef_int: 0.1390 - val_acc: 0.5045\n",
      "Epoch 7/15\n",
      "94/94 [==============================] - 346s - loss: 0.2717 - jaccard_coef: 0.3815 - jaccard_coef_int: 0.4076 - acc: 0.8711 - val_loss: 13.2941 - val_jaccard_coef: 0.1616 - val_jaccard_coef_int: 0.1616 - val_acc: 0.1661\n",
      "Epoch 8/15\n",
      "94/94 [==============================] - 346s - loss: 0.2594 - jaccard_coef: 0.3752 - jaccard_coef_int: 0.4293 - acc: 0.8868 - val_loss: 13.3678 - val_jaccard_coef: 0.1615 - val_jaccard_coef_int: 0.1615 - val_acc: 0.1615\n",
      "Epoch 9/15\n",
      "94/94 [==============================] - 345s - loss: 0.2378 - jaccard_coef: 0.4177 - jaccard_coef_int: 0.5164 - acc: 0.8956 - val_loss: 13.3514 - val_jaccard_coef: 0.1614 - val_jaccard_coef_int: 0.1614 - val_acc: 0.1625\n",
      "Epoch 10/15\n",
      "94/94 [==============================] - 346s - loss: 0.2547 - jaccard_coef: 0.4435 - jaccard_coef_int: 0.5133 - acc: 0.8874 - val_loss: 13.3236 - val_jaccard_coef: 0.1612 - val_jaccard_coef_int: 0.1612 - val_acc: 0.1641\n",
      "Epoch 11/15\n",
      "94/94 [==============================] - 345s - loss: 0.2420 - jaccard_coef: 0.4392 - jaccard_coef_int: 0.4807 - acc: 0.8948 - val_loss: 13.3673 - val_jaccard_coef: 0.1615 - val_jaccard_coef_int: 0.1615 - val_acc: 0.1615\n",
      "Epoch 12/15\n",
      "94/94 [==============================] - 345s - loss: 0.2138 - jaccard_coef: 0.4789 - jaccard_coef_int: 0.5363 - acc: 0.9062 - val_loss: 13.3085 - val_jaccard_coef: 0.1615 - val_jaccard_coef_int: 0.1615 - val_acc: 0.1617\n",
      "Epoch 13/15\n",
      "94/94 [==============================] - 345s - loss: 0.2499 - jaccard_coef: 0.4489 - jaccard_coef_int: 0.4856 - acc: 0.8982 - val_loss: 13.3482 - val_jaccard_coef: 0.1615 - val_jaccard_coef_int: 0.1615 - val_acc: 0.1615\n",
      "Epoch 14/15\n",
      "94/94 [==============================] - 345s - loss: 0.2507 - jaccard_coef: 0.4710 - jaccard_coef_int: 0.5267 - acc: 0.8859 - val_loss: 13.3669 - val_jaccard_coef: 0.1615 - val_jaccard_coef_int: 0.1615 - val_acc: 0.1615\n",
      "Epoch 15/15\n",
      "94/94 [==============================] - 346s - loss: 0.2371 - jaccard_coef: 0.4456 - jaccard_coef_int: 0.5397 - acc: 0.8941 - val_loss: 13.3661 - val_jaccard_coef: 0.1615 - val_jaccard_coef_int: 0.1615 - val_acc: 0.1615\n"
     ]
    },
    {
     "data": {
      "text/plain": [
       "<keras.callbacks.History at 0x7fe3b6abfef0>"
      ]
     },
     "execution_count": 12,
     "metadata": {},
     "output_type": "execute_result"
    }
   ],
   "source": [
    "K.set_value(model.optimizer.lr, 0.01)\n",
    "model.fit(x_trn, y_trn, batch_size=64, epochs=15, verbose=1, shuffle=True,\n",
    "          validation_data=(x_val, y_val))"
   ]
  },
  {
   "cell_type": "code",
   "execution_count": 13,
   "metadata": {},
   "outputs": [
    {
     "name": "stdout",
     "output_type": "stream",
     "text": [
      "Train on 94 samples, validate on 85 samples\n",
      "Epoch 1/1\n",
      "94/94 [==============================] - 346s - loss: 0.2325 - jaccard_coef: 0.4072 - jaccard_coef_int: 0.4925 - acc: 0.8997 - val_loss: 13.3603 - val_jaccard_coef: 0.1615 - val_jaccard_coef_int: 0.1615 - val_acc: 0.1615\n"
     ]
    },
    {
     "data": {
      "text/plain": [
       "<keras.callbacks.History at 0x7fe3b69bf860>"
      ]
     },
     "execution_count": 13,
     "metadata": {},
     "output_type": "execute_result"
    }
   ],
   "source": [
    "K.set_value(model.optimizer.lr, 0.0001)\n",
    "model.fit(x_trn, y_trn, batch_size=64, epochs=1, verbose=1, shuffle=True,\n",
    "          validation_data=(x_val, y_val))"
   ]
  },
  {
   "cell_type": "code",
   "execution_count": 14,
   "metadata": {},
   "outputs": [
    {
     "name": "stdout",
     "output_type": "stream",
     "text": [
      "Train on 94 samples, validate on 85 samples\n",
      "Epoch 1/1\n",
      "94/94 [==============================] - 345s - loss: 0.4522 - jaccard_coef: 0.3707 - jaccard_coef_int: 0.4336 - acc: 0.8556 - val_loss: 7.1893 - val_jaccard_coef: 0.1452 - val_jaccard_coef_int: 0.1437 - val_acc: 0.4629\n"
     ]
    },
    {
     "data": {
      "text/plain": [
       "<keras.callbacks.History at 0x7fe3f59b69e8>"
      ]
     },
     "execution_count": 14,
     "metadata": {},
     "output_type": "execute_result"
    }
   ],
   "source": [
    "K.set_value(model.optimizer.lr, 0.1)\n",
    "model.fit(x_trn, y_trn, batch_size=64, epochs=1, verbose=1, shuffle=True,\n",
    "          validation_data=(x_val, y_val))"
   ]
  },
  {
   "cell_type": "code",
   "execution_count": 15,
   "metadata": {},
   "outputs": [
    {
     "name": "stdout",
     "output_type": "stream",
     "text": [
      "Train on 94 samples, validate on 85 samples\n",
      "Epoch 1/1\n",
      "94/94 [==============================] - 346s - loss: 0.4599 - jaccard_coef: 0.3074 - jaccard_coef_int: 0.4296 - acc: 0.7345 - val_loss: 6.1613 - val_jaccard_coef: 0.1455 - val_jaccard_coef_int: 0.1399 - val_acc: 0.4336\n"
     ]
    },
    {
     "data": {
      "text/plain": [
       "<keras.callbacks.History at 0x7fe3b6a12be0>"
      ]
     },
     "execution_count": 15,
     "metadata": {},
     "output_type": "execute_result"
    }
   ],
   "source": [
    "K.set_value(model.optimizer.lr, 0.0001)\n",
    "model.fit(x_trn, y_trn, batch_size=64, epochs=1, verbose=1, shuffle=True,\n",
    "          validation_data=(x_val, y_val))"
   ]
  },
  {
   "cell_type": "code",
   "execution_count": 16,
   "metadata": {},
   "outputs": [
    {
     "name": "stdout",
     "output_type": "stream",
     "text": [
      "Train on 94 samples, validate on 85 samples\n",
      "Epoch 1/1\n",
      "94/94 [==============================] - 351s - loss: 0.4525 - jaccard_coef: 0.3074 - jaccard_coef_int: 0.4324 - acc: 0.7414 - val_loss: 4.4931 - val_jaccard_coef: 0.1449 - val_jaccard_coef_int: 0.1392 - val_acc: 0.3857\n"
     ]
    },
    {
     "data": {
      "text/plain": [
       "<keras.callbacks.History at 0x7fe3b5b5c9b0>"
      ]
     },
     "execution_count": 16,
     "metadata": {},
     "output_type": "execute_result"
    }
   ],
   "source": [
    "K.set_value(model.optimizer.lr, 0.001)\n",
    "model.fit(x_trn, y_trn, batch_size=64, epochs=1, verbose=1, shuffle=True,\n",
    "          validation_data=(x_val, y_val))"
   ]
  },
  {
   "cell_type": "code",
   "execution_count": 23,
   "metadata": {},
   "outputs": [
    {
     "name": "stdout",
     "output_type": "stream",
     "text": [
      "Train on 94 samples, validate on 85 samples\n",
      "Epoch 1/1\n",
      "94/94 [==============================] - 346s - loss: 0.3902 - jaccard_coef: 0.3210 - jaccard_coef_int: 0.4523 - acc: 0.7765 - val_loss: 3.0522 - val_jaccard_coef: 0.1434 - val_jaccard_coef_int: 0.1371 - val_acc: 0.3479\n"
     ]
    },
    {
     "data": {
      "text/plain": [
       "<keras.callbacks.History at 0x7fe3b45b8fd0>"
      ]
     },
     "execution_count": 23,
     "metadata": {},
     "output_type": "execute_result"
    }
   ],
   "source": [
    "K.set_value(model.optimizer.lr, 0.001)\n",
    "model.fit(x_trn, y_trn, batch_size=64, epochs=1, verbose=1, shuffle=True,\n",
    "          validation_data=(x_val, y_val))"
   ]
  },
  {
   "cell_type": "code",
   "execution_count": 24,
   "metadata": {},
   "outputs": [
    {
     "name": "stdout",
     "output_type": "stream",
     "text": [
      "Train on 94 samples, validate on 85 samples\n",
      "Epoch 1/3\n",
      "94/94 [==============================] - 346s - loss: 0.3512 - jaccard_coef: 0.3313 - jaccard_coef_int: 0.4597 - acc: 0.8017 - val_loss: 2.3599 - val_jaccard_coef: 0.1332 - val_jaccard_coef_int: 0.1347 - val_acc: 0.3249\n",
      "Epoch 2/3\n",
      "94/94 [==============================] - 346s - loss: 0.3191 - jaccard_coef: 0.3404 - jaccard_coef_int: 0.4648 - acc: 0.8157 - val_loss: 2.0458 - val_jaccard_coef: 0.1190 - val_jaccard_coef_int: 0.1239 - val_acc: 0.3328\n",
      "Epoch 3/3\n",
      "94/94 [==============================] - 346s - loss: 0.3024 - jaccard_coef: 0.3422 - jaccard_coef_int: 0.4589 - acc: 0.8209 - val_loss: 1.9323 - val_jaccard_coef: 0.1086 - val_jaccard_coef_int: 0.1113 - val_acc: 0.3725\n"
     ]
    },
    {
     "data": {
      "text/plain": [
       "<keras.callbacks.History at 0x7fe3b57f1390>"
      ]
     },
     "execution_count": 24,
     "metadata": {},
     "output_type": "execute_result"
    }
   ],
   "source": [
    "K.set_value(model.optimizer.lr, 0.001)\n",
    "model.fit(x_trn, y_trn, batch_size=64, epochs=3, verbose=1, shuffle=True,\n",
    "          validation_data=(x_val, y_val))"
   ]
  },
  {
   "cell_type": "code",
   "execution_count": 25,
   "metadata": {},
   "outputs": [
    {
     "name": "stdout",
     "output_type": "stream",
     "text": [
      "Train on 94 samples, validate on 85 samples\n",
      "Epoch 1/3\n",
      "94/94 [==============================] - 346s - loss: 0.3005 - jaccard_coef: 0.3344 - jaccard_coef_int: 0.4548 - acc: 0.8327 - val_loss: 1.9026 - val_jaccard_coef: 0.1040 - val_jaccard_coef_int: 0.1080 - val_acc: 0.3958\n",
      "Epoch 2/3\n",
      "94/94 [==============================] - 346s - loss: 0.2962 - jaccard_coef: 0.3308 - jaccard_coef_int: 0.4340 - acc: 0.8319 - val_loss: 1.8685 - val_jaccard_coef: 0.1039 - val_jaccard_coef_int: 0.1091 - val_acc: 0.4271\n",
      "Epoch 3/3\n",
      "94/94 [==============================] - 345s - loss: 0.3105 - jaccard_coef: 0.3184 - jaccard_coef_int: 0.4082 - acc: 0.8500 - val_loss: 1.7720 - val_jaccard_coef: 0.1054 - val_jaccard_coef_int: 0.1119 - val_acc: 0.4829\n"
     ]
    },
    {
     "data": {
      "text/plain": [
       "<keras.callbacks.History at 0x7fe3b45b8550>"
      ]
     },
     "execution_count": 25,
     "metadata": {},
     "output_type": "execute_result"
    }
   ],
   "source": [
    "K.set_value(model.optimizer.lr, 0.001)\n",
    "model.fit(x_trn, y_trn, batch_size=64, epochs=3, verbose=1, shuffle=True,\n",
    "          validation_data=(x_val, y_val))"
   ]
  },
  {
   "cell_type": "code",
   "execution_count": 26,
   "metadata": {},
   "outputs": [
    {
     "name": "stdout",
     "output_type": "stream",
     "text": [
      "Train on 94 samples, validate on 85 samples\n",
      "Epoch 1/1\n",
      "94/94 [==============================] - 346s - loss: 0.2814 - jaccard_coef: 0.3410 - jaccard_coef_int: 0.4590 - acc: 0.8523 - val_loss: 1.7947 - val_jaccard_coef: 0.1067 - val_jaccard_coef_int: 0.1119 - val_acc: 0.4852\n"
     ]
    },
    {
     "data": {
      "text/plain": [
       "<keras.callbacks.History at 0x7fe3b4504e48>"
      ]
     },
     "execution_count": 26,
     "metadata": {},
     "output_type": "execute_result"
    }
   ],
   "source": [
    "K.set_value(model.optimizer.lr, 0.0001)\n",
    "model.fit(x_trn, y_trn, batch_size=64, epochs=1, verbose=1, shuffle=True,\n",
    "          validation_data=(x_val, y_val))"
   ]
  },
  {
   "cell_type": "code",
   "execution_count": 40,
   "metadata": {},
   "outputs": [
    {
     "name": "stdout",
     "output_type": "stream",
     "text": [
      "Train on 94 samples, validate on 85 samples\n",
      "Epoch 1/3\n",
      "94/94 [==============================] - 346s - loss: 0.2883 - jaccard_coef: 0.3338 - jaccard_coef_int: 0.4433 - acc: 0.8544 - val_loss: 1.6920 - val_jaccard_coef: 0.1066 - val_jaccard_coef_int: 0.1119 - val_acc: 0.5437\n",
      "Epoch 2/3\n",
      "94/94 [==============================] - 346s - loss: 0.2781 - jaccard_coef: 0.3419 - jaccard_coef_int: 0.4676 - acc: 0.8613 - val_loss: 1.6393 - val_jaccard_coef: 0.1036 - val_jaccard_coef_int: 0.1073 - val_acc: 0.5853\n",
      "Epoch 3/3\n",
      "94/94 [==============================] - 346s - loss: 0.2835 - jaccard_coef: 0.3383 - jaccard_coef_int: 0.4489 - acc: 0.8679 - val_loss: 1.6096 - val_jaccard_coef: 0.0980 - val_jaccard_coef_int: 0.0998 - val_acc: 0.6119\n"
     ]
    },
    {
     "data": {
      "text/plain": [
       "<keras.callbacks.History at 0x7fe3b4550198>"
      ]
     },
     "execution_count": 40,
     "metadata": {},
     "output_type": "execute_result"
    }
   ],
   "source": [
    "K.set_value(model.optimizer.lr, 0.001)\n",
    "model.fit(x_trn, y_trn, batch_size=64, epochs=3, verbose=1, shuffle=True,\n",
    "          validation_data=(x_val, y_val))"
   ]
  },
  {
   "cell_type": "code",
   "execution_count": null,
   "metadata": {
    "collapsed": true
   },
   "outputs": [],
   "source": [
    "#VAL data comparison\n",
    "for i in range(1,5):\n",
    "    check_predict(val_img_names[i], train_model=model)"
   ]
  },
  {
   "cell_type": "markdown",
   "metadata": {},
   "source": [
    "m(8)+NDWI+NDVI with no batch norm still best - what about the 3rd place loss?"
   ]
  },
  {
   "cell_type": "markdown",
   "metadata": {
    "collapsed": true
   },
   "source": [
    "## New loss"
   ]
  },
  {
   "cell_type": "code",
   "execution_count": 57,
   "metadata": {},
   "outputs": [],
   "source": [
    "import math\n",
    "\n",
    "def jaccard_approx(y_true, y_pred):\n",
    "    intersection = K.sum(y_true * y_pred, axis=[0, -1, -2])\n",
    "    sum_ = K.sum(y_true + y_pred, axis=[0, -1, -2])\n",
    "\n",
    "    jac = (intersection + smooth) / (sum_ - intersection + smooth)\n",
    "    \n",
    "    binary_cross_entropy = K.sum(y_true * K.log(y_pred) + (1-y_true) * K.log(1-y_pred), axis=[0, -1, -2])  # may need to change 1 to a np array\n",
    "    \n",
    "    N = int(y_pred.shape[2] * y_pred.shape[3])\n",
    "    \n",
    "    jaccard_approximation = 1/N * jac\n",
    "    \n",
    "    return binary_cross_entropy - K.log(jaccard_approximation)"
   ]
  },
  {
   "cell_type": "code",
   "execution_count": 58,
   "metadata": {
    "collapsed": true
   },
   "outputs": [],
   "source": [
    "def get_unet_M8_NDVI_NDWI_newloss():\n",
    "    inputs = Input((8+2, ISZ, ISZ))\n",
    "    conv1 = Conv2D(32, (3, 3), activation='relu', padding='same')(inputs)\n",
    "    conv1 = Conv2D(32, (3, 3), activation='relu', padding='same')(conv1)\n",
    "    pool1 = MaxPooling2D(pool_size=(2, 2))(conv1)\n",
    "\n",
    "    conv2 = Conv2D(64, (3, 3), activation='relu', padding='same')(pool1)\n",
    "    conv2 = Conv2D(64, (3, 3), activation='relu', padding='same')(conv2)\n",
    "    pool2 = MaxPooling2D(pool_size=(2, 2))(conv2)\n",
    "\n",
    "    conv3 = Conv2D(128, (3, 3), activation='relu', padding='same')(pool2)\n",
    "    conv3 = Conv2D(128, (3, 3), activation='relu', padding='same')(conv3)\n",
    "    pool3 = MaxPooling2D(pool_size=(2, 2))(conv3)\n",
    "\n",
    "    conv4 = Conv2D(256, (3, 3), activation='relu', padding='same')(pool3)\n",
    "    conv4 = Conv2D(256, (3, 3), activation='relu', padding='same')(conv4)\n",
    "    pool4 = MaxPooling2D(pool_size=(2, 2))(conv4)\n",
    "\n",
    "    conv5 = Conv2D(512, (3, 3), activation='relu', padding='same')(pool4)\n",
    "    conv5 = Conv2D(512, (3, 3), activation='relu', padding='same')(conv5)\n",
    "\n",
    "    up6 = concatenate([Conv2DTranspose(256, (2, 2), strides=(2, 2), padding='same')(conv5), conv4], axis=1)\n",
    "    conv6 = Conv2D(256, (3, 3), activation='relu', padding='same')(up6)\n",
    "    conv6 = Conv2D(256, (3, 3), activation='relu', padding='same')(conv6)\n",
    "\n",
    "    up7 = concatenate([Conv2DTranspose(128, (2, 2), strides=(2, 2), padding='same')(conv6), conv3], axis=1)\n",
    "    conv7 = Conv2D(128, (3, 3), activation='relu', padding='same')(up7)\n",
    "    conv7 = Conv2D(128, (3, 3), activation='relu', padding='same')(conv7)\n",
    "\n",
    "    up8 = concatenate([Conv2DTranspose(64, (2, 2), strides=(2, 2), padding='same')(conv7), conv2], axis=1)\n",
    "    conv8 = Conv2D(64, (3, 3), activation='relu', padding='same')(up8)\n",
    "    conv8 = Conv2D(64, (3, 3), activation='relu', padding='same')(conv8)\n",
    "\n",
    "    up9 = concatenate([Conv2DTranspose(32, (2, 2), strides=(2, 2), padding='same')(conv8), conv1], axis=1)\n",
    "    conv9 = Conv2D(32, (3, 3), activation='relu', padding='same')(up9)\n",
    "    conv9 = Conv2D(32, (3, 3), activation='relu', padding='same')(conv9)\n",
    "\n",
    "    conv10 = Conv2D(N_Cls, (1, 1), activation='sigmoid')(conv9)\n",
    "\n",
    "    model = Model(inputs=[inputs], outputs=[conv10])\n",
    "    model.compile(optimizer=Adam(lr=0.01), loss=jaccard_approx, \n",
    "                  metrics=[jaccard_coef, jaccard_coef_int, 'accuracy'])\n",
    "    return model"
   ]
  },
  {
   "cell_type": "code",
   "execution_count": 59,
   "metadata": {},
   "outputs": [],
   "source": [
    "model_newloss = get_unet_M8_NDVI_NDWI_newloss()"
   ]
  },
  {
   "cell_type": "code",
   "execution_count": 60,
   "metadata": {},
   "outputs": [
    {
     "name": "stdout",
     "output_type": "stream",
     "text": [
      "Train on 94 samples, validate on 85 samples\n",
      "Epoch 1/1\n",
      "94/94 [==============================] - 223s - loss: nan - jaccard_coef: 0.1557 - jaccard_coef_int: 0.0375 - acc: 0.4834 - val_loss: nan - val_jaccard_coef: nan - val_jaccard_coef_int: nan - val_acc: 0.6418\n"
     ]
    },
    {
     "data": {
      "text/plain": [
       "<keras.callbacks.History at 0x7fe3ae30d6a0>"
      ]
     },
     "execution_count": 60,
     "metadata": {},
     "output_type": "execute_result"
    }
   ],
   "source": [
    "K.set_value(model_newloss.optimizer.lr, 0.01)\n",
    "model_newloss.fit(x_trn, y_trn, batch_size=64, epochs=1, verbose=1, shuffle=True,\n",
    "          validation_data=(x_val, y_val))"
   ]
  },
  {
   "cell_type": "markdown",
   "metadata": {},
   "source": [
    "Hmmm...that doesn't look promising - lets see if passing some y_true=y_pred yeilds ~ 0"
   ]
  },
  {
   "cell_type": "code",
   "execution_count": 63,
   "metadata": {},
   "outputs": [
    {
     "data": {
      "text/plain": [
       "(85, 10, 160, 160)"
      ]
     },
     "execution_count": 63,
     "metadata": {},
     "output_type": "execute_result"
    }
   ],
   "source": [
    "x_val.shape"
   ]
  },
  {
   "cell_type": "code",
   "execution_count": 67,
   "metadata": {},
   "outputs": [],
   "source": [
    "a = model.predict(x_val[0].reshape(1, x_val.shape[1], x_val.shape[2], x_val.shape[3]))"
   ]
  },
  {
   "cell_type": "code",
   "execution_count": 70,
   "metadata": {},
   "outputs": [
    {
     "data": {
      "text/plain": [
       "(1, 1, 160, 160)"
      ]
     },
     "execution_count": 70,
     "metadata": {},
     "output_type": "execute_result"
    }
   ],
   "source": [
    "a.shape"
   ]
  },
  {
   "cell_type": "code",
   "execution_count": 72,
   "metadata": {},
   "outputs": [
    {
     "ename": "AttributeError",
     "evalue": "'numpy.ndarray' object has no attribute 'get_shape'",
     "output_type": "error",
     "traceback": [
      "\u001b[0;31m---------------------------------------------------------------------------\u001b[0m",
      "\u001b[0;31mAttributeError\u001b[0m                            Traceback (most recent call last)",
      "\u001b[0;32m<ipython-input-72-90d5fc1112d5>\u001b[0m in \u001b[0;36m<module>\u001b[0;34m()\u001b[0m\n\u001b[0;32m----> 1\u001b[0;31m \u001b[0mjaccard_approx\u001b[0m\u001b[0;34m(\u001b[0m\u001b[0ma\u001b[0m\u001b[0;34m,\u001b[0m \u001b[0ma\u001b[0m\u001b[0;34m)\u001b[0m\u001b[0;34m\u001b[0m\u001b[0m\n\u001b[0m",
      "\u001b[0;32m<ipython-input-57-646f4872fe29>\u001b[0m in \u001b[0;36mjaccard_approx\u001b[0;34m(y_true, y_pred)\u001b[0m\n\u001b[1;32m      2\u001b[0m \u001b[0;34m\u001b[0m\u001b[0m\n\u001b[1;32m      3\u001b[0m \u001b[0;32mdef\u001b[0m \u001b[0mjaccard_approx\u001b[0m\u001b[0;34m(\u001b[0m\u001b[0my_true\u001b[0m\u001b[0;34m,\u001b[0m \u001b[0my_pred\u001b[0m\u001b[0;34m)\u001b[0m\u001b[0;34m:\u001b[0m\u001b[0;34m\u001b[0m\u001b[0m\n\u001b[0;32m----> 4\u001b[0;31m     \u001b[0mintersection\u001b[0m \u001b[0;34m=\u001b[0m \u001b[0mK\u001b[0m\u001b[0;34m.\u001b[0m\u001b[0msum\u001b[0m\u001b[0;34m(\u001b[0m\u001b[0my_true\u001b[0m \u001b[0;34m*\u001b[0m \u001b[0my_pred\u001b[0m\u001b[0;34m,\u001b[0m \u001b[0maxis\u001b[0m\u001b[0;34m=\u001b[0m\u001b[0;34m[\u001b[0m\u001b[0;36m0\u001b[0m\u001b[0;34m,\u001b[0m \u001b[0;34m-\u001b[0m\u001b[0;36m1\u001b[0m\u001b[0;34m,\u001b[0m \u001b[0;34m-\u001b[0m\u001b[0;36m2\u001b[0m\u001b[0;34m]\u001b[0m\u001b[0;34m)\u001b[0m\u001b[0;34m\u001b[0m\u001b[0m\n\u001b[0m\u001b[1;32m      5\u001b[0m     \u001b[0msum_\u001b[0m \u001b[0;34m=\u001b[0m \u001b[0mK\u001b[0m\u001b[0;34m.\u001b[0m\u001b[0msum\u001b[0m\u001b[0;34m(\u001b[0m\u001b[0my_true\u001b[0m \u001b[0;34m+\u001b[0m \u001b[0my_pred\u001b[0m\u001b[0;34m,\u001b[0m \u001b[0maxis\u001b[0m\u001b[0;34m=\u001b[0m\u001b[0;34m[\u001b[0m\u001b[0;36m0\u001b[0m\u001b[0;34m,\u001b[0m \u001b[0;34m-\u001b[0m\u001b[0;36m1\u001b[0m\u001b[0;34m,\u001b[0m \u001b[0;34m-\u001b[0m\u001b[0;36m2\u001b[0m\u001b[0;34m]\u001b[0m\u001b[0;34m)\u001b[0m\u001b[0;34m\u001b[0m\u001b[0m\n\u001b[1;32m      6\u001b[0m \u001b[0;34m\u001b[0m\u001b[0m\n",
      "\u001b[0;32m/usr/local/lib/python3.4/dist-packages/keras/backend/tensorflow_backend.py\u001b[0m in \u001b[0;36msum\u001b[0;34m(x, axis, keepdims)\u001b[0m\n\u001b[1;32m   1187\u001b[0m         \u001b[0mA\u001b[0m \u001b[0mtensor\u001b[0m \u001b[0;32mwith\u001b[0m \u001b[0msum\u001b[0m \u001b[0mof\u001b[0m\u001b[0;31m \u001b[0m\u001b[0;31m`\u001b[0m\u001b[0mx\u001b[0m\u001b[0;31m`\u001b[0m\u001b[0;34m.\u001b[0m\u001b[0;34m\u001b[0m\u001b[0m\n\u001b[1;32m   1188\u001b[0m     \"\"\"\n\u001b[0;32m-> 1189\u001b[0;31m     \u001b[0maxis\u001b[0m \u001b[0;34m=\u001b[0m \u001b[0m_normalize_axis\u001b[0m\u001b[0;34m(\u001b[0m\u001b[0maxis\u001b[0m\u001b[0;34m,\u001b[0m \u001b[0mndim\u001b[0m\u001b[0;34m(\u001b[0m\u001b[0mx\u001b[0m\u001b[0;34m)\u001b[0m\u001b[0;34m)\u001b[0m\u001b[0;34m\u001b[0m\u001b[0m\n\u001b[0m\u001b[1;32m   1190\u001b[0m     \u001b[0;32mreturn\u001b[0m \u001b[0mtf\u001b[0m\u001b[0;34m.\u001b[0m\u001b[0mreduce_sum\u001b[0m\u001b[0;34m(\u001b[0m\u001b[0mx\u001b[0m\u001b[0;34m,\u001b[0m \u001b[0mreduction_indices\u001b[0m\u001b[0;34m=\u001b[0m\u001b[0maxis\u001b[0m\u001b[0;34m,\u001b[0m \u001b[0mkeep_dims\u001b[0m\u001b[0;34m=\u001b[0m\u001b[0mkeepdims\u001b[0m\u001b[0;34m)\u001b[0m\u001b[0;34m\u001b[0m\u001b[0m\n\u001b[1;32m   1191\u001b[0m \u001b[0;34m\u001b[0m\u001b[0m\n",
      "\u001b[0;32m/usr/local/lib/python3.4/dist-packages/keras/backend/tensorflow_backend.py\u001b[0m in \u001b[0;36mndim\u001b[0;34m(x)\u001b[0m\n\u001b[1;32m    517\u001b[0m     \u001b[0;31m`\u001b[0m\u001b[0;31m`\u001b[0m\u001b[0;31m`\u001b[0m\u001b[0;34m\u001b[0m\u001b[0m\n\u001b[1;32m    518\u001b[0m     \"\"\"\n\u001b[0;32m--> 519\u001b[0;31m     \u001b[0mdims\u001b[0m \u001b[0;34m=\u001b[0m \u001b[0mx\u001b[0m\u001b[0;34m.\u001b[0m\u001b[0mget_shape\u001b[0m\u001b[0;34m(\u001b[0m\u001b[0;34m)\u001b[0m\u001b[0;34m.\u001b[0m\u001b[0m_dims\u001b[0m\u001b[0;34m\u001b[0m\u001b[0m\n\u001b[0m\u001b[1;32m    520\u001b[0m     \u001b[0;32mif\u001b[0m \u001b[0mdims\u001b[0m \u001b[0;32mis\u001b[0m \u001b[0;32mnot\u001b[0m \u001b[0;32mNone\u001b[0m\u001b[0;34m:\u001b[0m\u001b[0;34m\u001b[0m\u001b[0m\n\u001b[1;32m    521\u001b[0m         \u001b[0;32mreturn\u001b[0m \u001b[0mlen\u001b[0m\u001b[0;34m(\u001b[0m\u001b[0mdims\u001b[0m\u001b[0;34m)\u001b[0m\u001b[0;34m\u001b[0m\u001b[0m\n",
      "\u001b[0;31mAttributeError\u001b[0m: 'numpy.ndarray' object has no attribute 'get_shape'"
     ]
    }
   ],
   "source": [
    "jaccard_approx(a, a)"
   ]
  },
  {
   "cell_type": "markdown",
   "metadata": {},
   "source": [
    "# M(3) + NDVI + NDWI with best performing model (i.e. standard baseline) - \"Occam Razor\""
   ]
  },
  {
   "cell_type": "code",
   "execution_count": 88,
   "metadata": {
    "collapsed": true
   },
   "outputs": [],
   "source": [
    "def make_val(aug=False):\n",
    "    print(\"let's pick some samples for validation\")\n",
    "    img = np.load(inDir + '/data/x_valALL_%d.npy' % N_Cls)\n",
    "    msk = np.load(inDir + '/data/y_valALL_%d.npy' % N_Cls)\n",
    "    x, y = get_patches(img, msk, amt=300, aug=aug)  # amt := attempt (maybe - i.e. attempting to create 3000 patches, without\n",
    "                                            # percentage area cover threshold.\n",
    "\n",
    "    print(\"Validation data shapes:\")\n",
    "    print(x.shape)\n",
    "    print(y.shape)\n",
    "\n",
    "    np.save(inDir + '/data/x_val_%d' % N_Cls, x)\n",
    "    np.save(inDir + '/data/y_val_%d' % N_Cls, y)\n",
    "    \n",
    "    \n",
    "def stick_all_train():\n",
    "    print(\"let's stick all imgs together\")\n",
    "    s = 835  # size of the M images (roughly)\n",
    "\n",
    "    # 25 training images grid\n",
    "    x = np.zeros((5 * s, 4 * s, 3+2))      # (3,4,5 + ndvi + ndwi)\n",
    "    y = np.zeros((5 * s, 4 * s, N_Cls))  # axis=2 denote the class label\n",
    "\n",
    "    ids = sorted(DF.ImageId.unique())\n",
    "    print(len(ids))\n",
    "    \n",
    "    \n",
    "    # x start grid position (based on image size)\n",
    "    for i in range(5):\n",
    "        # y start grid position (based on image size)\n",
    "        for j in range(4):\n",
    "            id = ids[4 * i + j]\n",
    "\n",
    "            img = M(id)\n",
    "        \n",
    "            img = stretch_n(img)\n",
    "            print(img.shape, id, np.amax(img), np.amin(img))\n",
    "            \n",
    "            x[s * i:s * i + s, s * j:s * j + s, 0] = img[:s, :s, 3]\n",
    "            x[s * i:s * i + s, s * j:s * j + s, 1] = img[:s, :s, 4]\n",
    "            x[s * i:s * i + s, s * j:s * j + s, 2] = img[:s, :s, 5]\n",
    "            \n",
    "            # Add indexes from above\n",
    "            ndvi, savi, evi, ndwi = create_indexes(id)\n",
    "            x[s * i:s * i + s, s * j:s * j + s, 3] = ndvi[:s, :s]\n",
    "            x[s * i:s * i + s, s * j:s * j + s, 4] = ndwi[:s, :s]   \n",
    "            \n",
    "            # generate training masks by class\n",
    "            for z in range(N_Cls):\n",
    "                y[s * i:s * i + s, s * j:s * j + s, z] = generate_mask_for_image_and_class(\n",
    "                    (img.shape[0], img.shape[1]), id, z + 1)[:s, :s]\n",
    "    \n",
    "    print(\"x shape is:\")\n",
    "    print(x.shape)\n",
    "    print(\"y shape is:\")\n",
    "    print(y.shape)\n",
    "\n",
    "    print(np.amax(y), np.amin(y))\n",
    "    \n",
    "    np.save(inDir + '/data/x_trn_%d' % N_Cls, x)\n",
    "    np.save(inDir + '/data/y_trn_%d' % N_Cls, y)\n",
    "    \n",
    "    \n",
    "def stick_all_val():\n",
    "    print(\"let's stick all imgs together\")\n",
    "    s = 835  # size of the M images\n",
    "\n",
    "    # 25 training images grid\n",
    "    x = np.zeros((5 * s, 1 * s, 3+2))      # (3,4,5 + ndvi + ndwi)\n",
    "    y = np.zeros((5 * s, 1 * s, N_Cls))   # axis=2 denote the class label\n",
    "\n",
    "    ids = sorted(val_DF.ImageId.unique())\n",
    "    print(len(ids))\n",
    "\n",
    "    # x start grid position (based on image size)\n",
    "    for i in range(5):\n",
    "        # y start grid position (based on image size)\n",
    "        for j in range(1):\n",
    "            id = ids[1 * i + j]\n",
    "\n",
    "            img = M(id)\n",
    "            \n",
    "            img = stretch_n(img)\n",
    "            print(img.shape, id, np.amax(img), np.amin(img))\n",
    "            \n",
    "            x[s * i:s * i + s, s * j:s * j + s, 0] = img[:s, :s, 3]\n",
    "            x[s * i:s * i + s, s * j:s * j + s, 1] = img[:s, :s, 4]\n",
    "            x[s * i:s * i + s, s * j:s * j + s, 2] = img[:s, :s, 5]\n",
    "            \n",
    "            # Add indexes from above\n",
    "            ndvi, savi, evi, ndwi = create_indexes(id)\n",
    "            x[s * i:s * i + s, s * j:s * j + s, 3] = ndvi[:s, :s]\n",
    "            x[s * i:s * i + s, s * j:s * j + s, 4] = ndwi[:s, :s]  \n",
    "            \n",
    "            # generate training masks by class\n",
    "            for z in range(N_Cls):\n",
    "                y[s * i:s * i + s, s * j:s * j + s, z] = generate_mask_for_image_and_class(\n",
    "                    (img.shape[0], img.shape[1]), id, z + 1, wkt_list_pandas=val_DF)[:s, :s]\n",
    "\n",
    "    print(\"x shape is:\")\n",
    "    print(x.shape)\n",
    "    print(\"y shape is:\")\n",
    "    print(y.shape)\n",
    "\n",
    "    print(np.amax(y), np.amin(y))\n",
    "\n",
    "    np.save(inDir + '/data/x_valALL_%d' % N_Cls, x)\n",
    "    np.save(inDir + '/data/y_valALL_%d' % N_Cls, y)"
   ]
  },
  {
   "cell_type": "code",
   "execution_count": 89,
   "metadata": {},
   "outputs": [
    {
     "name": "stdout",
     "output_type": "stream",
     "text": [
      "let's stick all imgs together\n",
      "20\n",
      "(837, 849, 8) 6010_1_2 1.0 0.0\n",
      "(837, 849, 8) 6010_4_2 1.0 0.0\n"
     ]
    },
    {
     "name": "stderr",
     "output_type": "stream",
     "text": [
      "/usr/local/lib/python3.4/dist-packages/ipykernel_launcher.py:36: RuntimeWarning: divide by zero encountered in true_divide\n"
     ]
    },
    {
     "name": "stdout",
     "output_type": "stream",
     "text": [
      "(837, 848, 8) 6040_1_0 1.0 0.0\n",
      "(837, 848, 8) 6040_1_3 1.0 0.0\n",
      "(837, 848, 8) 6040_2_2 1.0 0.0\n",
      "(837, 846, 8) 6040_4_4 1.0 0.0\n",
      "(837, 851, 8) 6060_2_3 1.0 0.0\n",
      "(837, 848, 8) 6090_2_0 1.0 0.0\n",
      "(837, 848, 8) 6100_1_3 1.0 0.0\n",
      "(837, 848, 8) 6100_2_2 1.0 0.0\n",
      "(837, 849, 8) 6110_1_2 1.0 0.0\n",
      "(837, 849, 8) 6110_3_1 1.0 0.0\n",
      "(837, 849, 8) 6110_4_0 1.0 0.0\n",
      "(837, 851, 8) 6120_2_0 1.0 0.0\n",
      "(837, 851, 8) 6120_2_2 1.0 0.0\n",
      "(837, 849, 8) 6140_3_1 1.0 0.0\n",
      "(837, 851, 8) 6150_2_3 1.0 0.0\n",
      "(837, 848, 8) 6160_2_1 1.0 0.0\n",
      "(837, 848, 8) 6170_0_4 1.0 0.0\n",
      "(837, 848, 8) 6170_4_1 1.0 0.0\n",
      "x shape is:\n",
      "(4175, 3340, 5)\n",
      "y shape is:\n",
      "(4175, 3340, 1)\n",
      "1.0 0.0\n",
      "let's stick all imgs together\n",
      "5\n",
      "(837, 848, 8) 6010_4_4 1.0 0.0\n",
      "(838, 835, 8) 6070_2_3 1.0 0.0\n",
      "(837, 848, 8) 6100_2_3 1.0 0.0\n",
      "(837, 849, 8) 6140_1_2 1.0 0.0\n",
      "(837, 848, 8) 6170_2_4 1.0 0.0\n",
      "x shape is:\n",
      "(4175, 835, 5)\n",
      "y shape is:\n",
      "(4175, 835, 1)\n",
      "1.0 0.0\n",
      "let's pick some samples for validation\n",
      "Add blank, idx=5, count=1\n",
      "Add blank, idx=9, count=2\n",
      "Add blank, idx=29, count=3\n",
      "Add blank, idx=43, count=4\n",
      "Add blank, idx=45, count=5\n",
      "Add blank, idx=47, count=6\n",
      "Add blank, idx=50, count=7\n",
      "Add blank, idx=58, count=8\n",
      "Add blank, idx=61, count=9\n",
      "Add blank, idx=66, count=10\n",
      "Add blank, idx=72, count=11\n",
      "Add blank, idx=73, count=12\n",
      "Add blank, idx=81, count=13\n",
      "Add blank, idx=83, count=14\n",
      "Add blank, idx=88, count=15\n",
      "Add blank, idx=92, count=16\n",
      "Add blank, idx=95, count=17\n",
      "Add blank, idx=96, count=18\n",
      "Add blank, idx=108, count=19\n",
      "Add blank, idx=120, count=20\n",
      "Add blank, idx=122, count=21\n",
      "Add blank, idx=124, count=22\n",
      "Add blank, idx=125, count=23\n",
      "Add blank, idx=128, count=24\n",
      "Add blank, idx=134, count=25\n",
      "Add blank, idx=148, count=26\n",
      "Add blank, idx=153, count=27\n",
      "Add blank, idx=159, count=28\n",
      "Add blank, idx=191, count=29\n",
      "Add blank, idx=194, count=30\n",
      "Add blank, idx=195, count=31\n",
      "Add blank, idx=203, count=32\n",
      "Add blank, idx=206, count=33\n",
      "Add blank, idx=207, count=34\n",
      "Add blank, idx=209, count=35\n",
      "Add blank, idx=220, count=36\n",
      "Add blank, idx=221, count=37\n",
      "Add blank, idx=223, count=38\n",
      "Add blank, idx=230, count=39\n",
      "Add blank, idx=237, count=40\n",
      "Add blank, idx=242, count=41\n",
      "Add blank, idx=246, count=42\n",
      "Add blank, idx=251, count=43\n",
      "Add blank, idx=257, count=44\n",
      "Add blank, idx=259, count=45\n",
      "Add blank, idx=262, count=46\n",
      "Add blank, idx=270, count=47\n",
      "Add blank, idx=276, count=48\n",
      "Add blank, idx=279, count=49\n",
      "Add blank, idx=282, count=50\n",
      "Add blank, idx=297, count=51\n",
      "(84, 5, 160, 160) (84, 1, 160, 160) 1.0 -2.22901272774 1.0 0.0\n",
      "Validation data shapes:\n",
      "(84, 5, 160, 160)\n",
      "(84, 1, 160, 160)\n"
     ]
    }
   ],
   "source": [
    "stick_all_train()\n",
    "\n",
    "stick_all_val()\n",
    "make_val()"
   ]
  },
  {
   "cell_type": "code",
   "execution_count": 90,
   "metadata": {
    "collapsed": true
   },
   "outputs": [],
   "source": [
    "def get_unet_M3_NDVI_NDWI():\n",
    "    inputs = Input((3+2, ISZ, ISZ))\n",
    "    conv1 = Conv2D(32, (3, 3), activation='relu', padding='same')(inputs)\n",
    "    conv1 = Conv2D(32, (3, 3), activation='relu', padding='same')(conv1)\n",
    "    pool1 = MaxPooling2D(pool_size=(2, 2))(conv1)\n",
    "\n",
    "    conv2 = Conv2D(64, (3, 3), activation='relu', padding='same')(pool1)\n",
    "    conv2 = Conv2D(64, (3, 3), activation='relu', padding='same')(conv2)\n",
    "    pool2 = MaxPooling2D(pool_size=(2, 2))(conv2)\n",
    "\n",
    "    conv3 = Conv2D(128, (3, 3), activation='relu', padding='same')(pool2)\n",
    "    conv3 = Conv2D(128, (3, 3), activation='relu', padding='same')(conv3)\n",
    "    pool3 = MaxPooling2D(pool_size=(2, 2))(conv3)\n",
    "\n",
    "    conv4 = Conv2D(256, (3, 3), activation='relu', padding='same')(pool3)\n",
    "    conv4 = Conv2D(256, (3, 3), activation='relu', padding='same')(conv4)\n",
    "    pool4 = MaxPooling2D(pool_size=(2, 2))(conv4)\n",
    "\n",
    "    conv5 = Conv2D(512, (3, 3), activation='relu', padding='same')(pool4)\n",
    "    conv5 = Conv2D(512, (3, 3), activation='relu', padding='same')(conv5)\n",
    "\n",
    "    up6 = concatenate([Conv2DTranspose(256, (2, 2), strides=(2, 2), padding='same')(conv5), conv4], axis=1)\n",
    "    conv6 = Conv2D(256, (3, 3), activation='relu', padding='same')(up6)\n",
    "    conv6 = Conv2D(256, (3, 3), activation='relu', padding='same')(conv6)\n",
    "\n",
    "    up7 = concatenate([Conv2DTranspose(128, (2, 2), strides=(2, 2), padding='same')(conv6), conv3], axis=1)\n",
    "    conv7 = Conv2D(128, (3, 3), activation='relu', padding='same')(up7)\n",
    "    conv7 = Conv2D(128, (3, 3), activation='relu', padding='same')(conv7)\n",
    "\n",
    "    up8 = concatenate([Conv2DTranspose(64, (2, 2), strides=(2, 2), padding='same')(conv7), conv2], axis=1)\n",
    "    conv8 = Conv2D(64, (3, 3), activation='relu', padding='same')(up8)\n",
    "    conv8 = Conv2D(64, (3, 3), activation='relu', padding='same')(conv8)\n",
    "\n",
    "    up9 = concatenate([Conv2DTranspose(32, (2, 2), strides=(2, 2), padding='same')(conv8), conv1], axis=1)\n",
    "    conv9 = Conv2D(32, (3, 3), activation='relu', padding='same')(up9)\n",
    "    conv9 = Conv2D(32, (3, 3), activation='relu', padding='same')(conv9)\n",
    "\n",
    "    conv10 = Conv2D(N_Cls, (1, 1), activation='sigmoid')(conv9)\n",
    "\n",
    "    model = Model(inputs=[inputs], outputs=[conv10])\n",
    "    model.compile(optimizer=Adam(), loss='binary_crossentropy', \n",
    "                  metrics=[jaccard_coef, jaccard_coef_int, 'accuracy'])\n",
    "    return model"
   ]
  },
  {
   "cell_type": "code",
   "execution_count": 91,
   "metadata": {
    "collapsed": true
   },
   "outputs": [],
   "source": [
    "x_val, y_val = np.load(inDir + '/data/x_val_%d.npy' % N_Cls), np.load(inDir + '/data/y_val_%d.npy' % N_Cls)\n",
    "img = np.load(inDir + '/data/x_trn_%d.npy' % N_Cls)\n",
    "msk = np.load(inDir + '/data/y_trn_%d.npy' % N_Cls)\n",
    "\n",
    "model = get_unet_M3_NDVI_NDWI()"
   ]
  },
  {
   "cell_type": "code",
   "execution_count": 94,
   "metadata": {},
   "outputs": [
    {
     "name": "stdout",
     "output_type": "stream",
     "text": [
      "Add blank, idx=25, count=1\n",
      "Add blank, idx=57, count=2\n",
      "Add blank, idx=117, count=3\n",
      "Add blank, idx=138, count=4\n",
      "Add blank, idx=290, count=5\n",
      "Add blank, idx=297, count=6\n",
      "Add blank, idx=299, count=7\n",
      "Add blank, idx=314, count=8\n",
      "Add blank, idx=323, count=9\n",
      "Add blank, idx=333, count=10\n",
      "Add blank, idx=392, count=11\n",
      "Add blank, idx=411, count=12\n",
      "Add blank, idx=426, count=13\n",
      "Add blank, idx=540, count=14\n",
      "Add blank, idx=547, count=15\n",
      "(61, 5, 160, 160) (61, 1, 160, 160) 1.0 -2.24008345604 1.0 0.0\n"
     ]
    }
   ],
   "source": [
    "del x_trn\n",
    "del y_trn\n",
    "x_trn, y_trn = get_patches(img, msk, amt=600, aug=False)"
   ]
  },
  {
   "cell_type": "code",
   "execution_count": 95,
   "metadata": {},
   "outputs": [
    {
     "name": "stdout",
     "output_type": "stream",
     "text": [
      "Train on 61 samples, validate on 84 samples\n",
      "Epoch 1/1\n",
      "61/61 [==============================] - 167s - loss: 0.7303 - jaccard_coef: 0.2419 - jaccard_coef_int: 0.5341 - acc: 0.2944 - val_loss: 0.6872 - val_jaccard_coef: 0.1511 - val_jaccard_coef_int: 0.0884 - val_acc: 0.6599\n"
     ]
    },
    {
     "data": {
      "text/plain": [
       "<keras.callbacks.History at 0x7fe3f3816c18>"
      ]
     },
     "execution_count": 95,
     "metadata": {},
     "output_type": "execute_result"
    }
   ],
   "source": [
    "model.fit(x_trn, y_trn, batch_size=64, epochs=1, verbose=1, shuffle=True,\n",
    "          validation_data=(x_val, y_val))"
   ]
  },
  {
   "cell_type": "code",
   "execution_count": 96,
   "metadata": {},
   "outputs": [
    {
     "name": "stdout",
     "output_type": "stream",
     "text": [
      "Train on 61 samples, validate on 84 samples\n",
      "Epoch 1/1\n",
      "61/61 [==============================] - 172s - loss: 0.6838 - jaccard_coef: 0.2267 - jaccard_coef_int: 0.0904 - acc: 0.6894 - val_loss: 2.8770 - val_jaccard_coef: 5.7418e-18 - val_jaccard_coef_int: 5.7418e-18 - val_acc: 0.8215\n"
     ]
    },
    {
     "data": {
      "text/plain": [
       "<keras.callbacks.History at 0x7fe3adac4160>"
      ]
     },
     "execution_count": 96,
     "metadata": {},
     "output_type": "execute_result"
    }
   ],
   "source": [
    "K.set_value(model.optimizer.lr, 0.01)\n",
    "model.fit(x_trn, y_trn, batch_size=64, epochs=1, verbose=1, shuffle=True,\n",
    "          validation_data=(x_val, y_val))"
   ]
  },
  {
   "cell_type": "code",
   "execution_count": 97,
   "metadata": {},
   "outputs": [
    {
     "name": "stdout",
     "output_type": "stream",
     "text": [
      "Train on 61 samples, validate on 84 samples\n",
      "Epoch 1/1\n",
      "61/61 [==============================] - 165s - loss: 4.7439 - jaccard_coef: 2.1758e-18 - jaccard_coef_int: 2.1758e-18 - acc: 0.7057 - val_loss: 2.8770 - val_jaccard_coef: 5.7418e-18 - val_jaccard_coef_int: 5.7418e-18 - val_acc: 0.8215\n"
     ]
    },
    {
     "data": {
      "text/plain": [
       "<keras.callbacks.History at 0x7fe3f37b50f0>"
      ]
     },
     "execution_count": 97,
     "metadata": {},
     "output_type": "execute_result"
    }
   ],
   "source": [
    "K.set_value(model.optimizer.lr, 0.1)\n",
    "model.fit(x_trn, y_trn, batch_size=64, epochs=1, verbose=1, shuffle=True,\n",
    "          validation_data=(x_val, y_val))"
   ]
  },
  {
   "cell_type": "code",
   "execution_count": 98,
   "metadata": {},
   "outputs": [
    {
     "name": "stdout",
     "output_type": "stream",
     "text": [
      "Train on 61 samples, validate on 84 samples\n",
      "Epoch 1/1\n",
      "61/61 [==============================] - 165s - loss: 4.7439 - jaccard_coef: 2.1758e-18 - jaccard_coef_int: 2.1758e-18 - acc: 0.7057 - val_loss: 2.8770 - val_jaccard_coef: 5.7418e-18 - val_jaccard_coef_int: 5.7418e-18 - val_acc: 0.8215\n"
     ]
    },
    {
     "data": {
      "text/plain": [
       "<keras.callbacks.History at 0x7fe3f37b5ba8>"
      ]
     },
     "execution_count": 98,
     "metadata": {},
     "output_type": "execute_result"
    }
   ],
   "source": [
    "K.set_value(model.optimizer.lr, 0.0001)\n",
    "model.fit(x_trn, y_trn, batch_size=64, epochs=1, verbose=1, shuffle=True,\n",
    "          validation_data=(x_val, y_val))"
   ]
  },
  {
   "cell_type": "code",
   "execution_count": 99,
   "metadata": {},
   "outputs": [
    {
     "name": "stdout",
     "output_type": "stream",
     "text": [
      "Train on 61 samples, validate on 84 samples\n",
      "Epoch 1/3\n",
      "61/61 [==============================] - 165s - loss: 4.7439 - jaccard_coef: 2.1758e-18 - jaccard_coef_int: 2.1758e-18 - acc: 0.7057 - val_loss: 2.8770 - val_jaccard_coef: 5.7418e-18 - val_jaccard_coef_int: 5.7418e-18 - val_acc: 0.8215\n",
      "Epoch 2/3\n",
      "61/61 [==============================] - 165s - loss: 4.7439 - jaccard_coef: 2.1758e-18 - jaccard_coef_int: 2.1758e-18 - acc: 0.7057 - val_loss: 2.8770 - val_jaccard_coef: 5.7418e-18 - val_jaccard_coef_int: 5.7418e-18 - val_acc: 0.8215\n",
      "Epoch 3/3\n",
      "61/61 [==============================] - 165s - loss: 4.7439 - jaccard_coef: 2.1758e-18 - jaccard_coef_int: 2.1758e-18 - acc: 0.7057 - val_loss: 2.8770 - val_jaccard_coef: 5.7418e-18 - val_jaccard_coef_int: 5.7418e-18 - val_acc: 0.8215\n"
     ]
    },
    {
     "data": {
      "text/plain": [
       "<keras.callbacks.History at 0x7fe3f37b58d0>"
      ]
     },
     "execution_count": 99,
     "metadata": {},
     "output_type": "execute_result"
    }
   ],
   "source": [
    "K.set_value(model.optimizer.lr, 0.01)\n",
    "model.fit(x_trn, y_trn, batch_size=64, epochs=3, verbose=1, shuffle=True,\n",
    "          validation_data=(x_val, y_val))"
   ]
  },
  {
   "cell_type": "markdown",
   "metadata": {},
   "source": [
    "Not unsuprisingly, more signal in all 8 bands."
   ]
  }
 ],
 "metadata": {
  "kernelspec": {
   "display_name": "Python 3",
   "language": "python",
   "name": "python3"
  },
  "language_info": {
   "codemirror_mode": {
    "name": "ipython",
    "version": 3
   },
   "file_extension": ".py",
   "mimetype": "text/x-python",
   "name": "python",
   "nbconvert_exporter": "python",
   "pygments_lexer": "ipython3",
   "version": "3.4.3"
  }
 },
 "nbformat": 4,
 "nbformat_minor": 2
}
